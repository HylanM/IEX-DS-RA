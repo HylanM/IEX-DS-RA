{
 "cells": [
  {
   "cell_type": "markdown",
   "id": "84cb5310-fdfe-4bfc-8543-659181f2bade",
   "metadata": {},
   "source": [
    "# Calculator Attempt "
   ]
  },
  {
   "cell_type": "code",
   "execution_count": 22,
   "id": "4dc6eb95-b98e-48db-adbf-276fe81f3c1c",
   "metadata": {
    "tags": []
   },
   "outputs": [
    {
     "name": "stdout",
     "output_type": "stream",
     "text": [
      "\n",
      "        Calculator v1.0 Menu\n",
      "        1. Add two numbers\n",
      "        2. Subtract two numbers \n",
      "        3. Divide two numbers \n",
      "        4. Multiple two numbers \n",
      "        5. Calculate 8% tax on value \n",
      "        6. Calculate monthly payments, given a total amount and a number of years\n",
      "        7. quit\n",
      "        \n",
      "        \n"
     ]
    },
    {
     "name": "stdin",
     "output_type": "stream",
     "text": [
      "Chose an Option from 1 - 6:  7\n"
     ]
    },
    {
     "name": "stdout",
     "output_type": "stream",
     "text": [
      "thank you. Goodbye\n"
     ]
    }
   ],
   "source": [
    "while True: \n",
    "    #print out the menu \n",
    "    print (\n",
    "        '''\n",
    "        Calculator v1.0 Menu\n",
    "        1. Add two numbers\n",
    "        2. Subtract two numbers \n",
    "        3. Divide two numbers \n",
    "        4. Multiple two numbers \n",
    "        5. Calculate 8% tax on value \n",
    "        6. Calculate monthly payments, given a total amount and a number of years\n",
    "        7. quit\n",
    "        \n",
    "        ''')\n",
    "    #print out user input \n",
    "    UserChoice = int(input('Chose an Option from 1 - 6: '))\n",
    "                           \n",
    "    # if user chooses 1 , add 2 numbers \n",
    "    if UserChoice == 1:\n",
    "            print('ADD TWO NUMBERS')\n",
    "            number_1 = float(input('First number: '))\n",
    "            number_2 = float(input('Second number: '))\n",
    "            result = number_1 + number_2\n",
    "            print('Result: ', result)\n",
    "                                   \n",
    "    #Else if user choose 2, subtract 2 numbers\n",
    "    elif UserChoice == 2:\n",
    "            print('SUBTRACT TWO NUMBERS')\n",
    "            number_1 = float(input('First number: '))\n",
    "            number_2 = float(input('Second number: '))\n",
    "            result = number_1 - number_2\n",
    "            print('Result: ', result)       \n",
    "            \n",
    "    #Dividing Two Numbers\n",
    "    elif UserChoice == 3:\n",
    "            print('DIVIDING TWO NUMBERS')\n",
    "            number_1 = float(input('First number: '))\n",
    "            number_2 = float(input('Second number: '))\n",
    "            result = number_1 / number_2\n",
    "            print('Result: ', result)       \n",
    "            \n",
    "    #Multiply two numbers \n",
    "    elif UserChoice == 4:\n",
    "            print('MULTIPLY TWO NUMBERS')\n",
    "            number_1 = float(input('First number: '))\n",
    "            number_2 = float(input('Second number: '))\n",
    "            result = number_1 * number_2\n",
    "            print('Result: ', result)       \n",
    "   \n",
    "    #Calculate 8%      \n",
    "    elif UserChoice == 5:\n",
    "            print('CALCULATING 8% TAX ON A VALUE')\n",
    "            amount = float(input('Enter Amount: '))\n",
    "            result = amount * 0.08\n",
    "            print('Result: ', result)       \n",
    "    \n",
    "    #Monthly Payment \n",
    "    elif UserChoice == 6:\n",
    "        print('CACULATING MONTHLY PAYMENTS')\n",
    "        amount = float(input('Enter total amount: '))\n",
    "        number_of_years = float(input('Enter Number of years: '))\n",
    "        payment = amount / (number_of_years * 12)\n",
    "        print('Result: ', payment)\n",
    "                                   \n",
    "    #else if user chooses 7 -> quit program \n",
    "    elif UserChoice == 7:\n",
    "        print(\"thank you. Goodbye\")\n",
    "        break\n",
    "            \n",
    "                                   \n",
    "                                   \n",
    "                                   \n",
    "                                   \n",
    "                                   "
   ]
  },
  {
   "cell_type": "code",
   "execution_count": null,
   "id": "2f1be99c-d639-4dbd-92f0-de3f26564fa1",
   "metadata": {},
   "outputs": [],
   "source": []
  },
  {
   "cell_type": "code",
   "execution_count": null,
   "id": "6083e87a-b7d1-4193-b496-e655ace792ec",
   "metadata": {},
   "outputs": [],
   "source": []
  },
  {
   "cell_type": "code",
   "execution_count": null,
   "id": "1d4e0f5a-3114-4774-af0c-1f91979c3a0e",
   "metadata": {},
   "outputs": [],
   "source": []
  }
 ],
 "metadata": {
  "kernelspec": {
   "display_name": "Python 3 (ipykernel)",
   "language": "python",
   "name": "python3"
  },
  "language_info": {
   "codemirror_mode": {
    "name": "ipython",
    "version": 3
   },
   "file_extension": ".py",
   "mimetype": "text/x-python",
   "name": "python",
   "nbconvert_exporter": "python",
   "pygments_lexer": "ipython3",
   "version": "3.11.5"
  }
 },
 "nbformat": 4,
 "nbformat_minor": 5
}
