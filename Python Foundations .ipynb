{
 "cells": [
  {
   "cell_type": "code",
   "execution_count": 6,
   "id": "ac36aeef-7850-4fd2-93e9-41e1e18aaceb",
   "metadata": {
    "tags": []
   },
   "outputs": [],
   "source": [
    "#strings\n",
    "#str\n",
    "string = ''\n",
    "string_1 = \"this is a string\" #no difference between string and string 1"
   ]
  },
  {
   "cell_type": "code",
   "execution_count": 7,
   "id": "2ea07873-ec2a-42d5-8025-4577f6fd13dd",
   "metadata": {
    "tags": []
   },
   "outputs": [
    {
     "name": "stdout",
     "output_type": "stream",
     "text": [
      "this is a string\n"
     ]
    }
   ],
   "source": [
    "print(string_1)"
   ]
  },
  {
   "cell_type": "code",
   "execution_count": 13,
   "id": "cb9bd224-d796-479f-a6ac-715d46cdd63c",
   "metadata": {
    "tags": []
   },
   "outputs": [],
   "source": [
    "#Integers whole numbers \n",
    "#int\n",
    "number = 50        #'50' this is a string "
   ]
  },
  {
   "cell_type": "code",
   "execution_count": 15,
   "id": "d4d9d3e9-d783-4766-83d7-05e2eed7de9f",
   "metadata": {
    "tags": []
   },
   "outputs": [],
   "source": [
    "#float\n",
    "#float \n",
    "decimal = 1.5 \n",
    "demical = 2.0 "
   ]
  },
  {
   "cell_type": "code",
   "execution_count": 8,
   "id": "ddcfe646-c037-4002-8aae-aaf60778953b",
   "metadata": {
    "tags": []
   },
   "outputs": [
    {
     "data": {
      "text/plain": [
       "True"
      ]
     },
     "execution_count": 8,
     "metadata": {},
     "output_type": "execute_result"
    }
   ],
   "source": [
    "#Booleans \n",
    "2+3==5"
   ]
  },
  {
   "cell_type": "code",
   "execution_count": 9,
   "id": "c1b1360b-d8aa-455e-822d-77f106eb49c1",
   "metadata": {
    "tags": []
   },
   "outputs": [
    {
     "data": {
      "text/plain": [
       "False"
      ]
     },
     "execution_count": 9,
     "metadata": {},
     "output_type": "execute_result"
    }
   ],
   "source": [
    "3+4 == 9"
   ]
  },
  {
   "cell_type": "code",
   "execution_count": 10,
   "id": "1b259cda-5b68-454b-a2ba-c57104f5290c",
   "metadata": {
    "tags": []
   },
   "outputs": [
    {
     "data": {
      "text/plain": [
       "str"
      ]
     },
     "execution_count": 10,
     "metadata": {},
     "output_type": "execute_result"
    }
   ],
   "source": [
    "type(string_1)"
   ]
  },
  {
   "cell_type": "code",
   "execution_count": 14,
   "id": "afced349-e9e3-47ca-9143-6b0112203c76",
   "metadata": {
    "tags": []
   },
   "outputs": [
    {
     "data": {
      "text/plain": [
       "int"
      ]
     },
     "execution_count": 14,
     "metadata": {},
     "output_type": "execute_result"
    }
   ],
   "source": [
    "type(number)"
   ]
  },
  {
   "cell_type": "code",
   "execution_count": 16,
   "id": "e75ef351-ac3c-4145-b7af-c39717b7ba32",
   "metadata": {
    "tags": []
   },
   "outputs": [
    {
     "data": {
      "text/plain": [
       "float"
      ]
     },
     "execution_count": 16,
     "metadata": {},
     "output_type": "execute_result"
    }
   ],
   "source": [
    "type(decimal)\n"
   ]
  },
  {
   "cell_type": "code",
   "execution_count": 18,
   "id": "448aef61-7ef0-4198-a5d7-acf8078a4959",
   "metadata": {
    "tags": []
   },
   "outputs": [],
   "source": [
    "dictionary = {}"
   ]
  },
  {
   "cell_type": "code",
   "execution_count": 20,
   "id": "55f0aa77-d14f-446d-aac4-71db3f5ddf7e",
   "metadata": {
    "tags": []
   },
   "outputs": [
    {
     "data": {
      "text/plain": [
       "dict"
      ]
     },
     "execution_count": 20,
     "metadata": {},
     "output_type": "execute_result"
    }
   ],
   "source": [
    "type(dictionary)"
   ]
  },
  {
   "cell_type": "markdown",
   "id": "77cb4ec4-8cd7-40b7-8357-55f031daa358",
   "metadata": {},
   "source": [
    "# String"
   ]
  },
  {
   "cell_type": "code",
   "execution_count": 6,
   "id": "a3720f2f-da7e-4f07-bf02-bb96636213ed",
   "metadata": {
    "tags": []
   },
   "outputs": [
    {
     "name": "stdout",
     "output_type": "stream",
     "text": [
      "i\n"
     ]
    }
   ],
   "source": [
    "#Accessing String Values \n",
    "#indicies\n",
    "\n",
    "string = 'this is a fun course'  #a space in python is a character  #t=0,h=1,i=2\n",
    "\n",
    "print(string[5])"
   ]
  },
  {
   "cell_type": "code",
   "execution_count": 9,
   "id": "781d95a5-68dc-4a42-9594-6ee4a120f12f",
   "metadata": {
    "tags": []
   },
   "outputs": [
    {
     "data": {
      "text/plain": [
       "'is a'"
      ]
     },
     "execution_count": 9,
     "metadata": {},
     "output_type": "execute_result"
    }
   ],
   "source": [
    "#Slices\n",
    "\n",
    "string[5:9]"
   ]
  },
  {
   "cell_type": "markdown",
   "id": "8455b6dd-0804-42cc-b132-cd3bec078663",
   "metadata": {},
   "source": [
    "# Formatting String "
   ]
  },
  {
   "cell_type": "code",
   "execution_count": 13,
   "id": "917673c2-9894-4bc3-a02d-dc4c3ec722ad",
   "metadata": {
    "tags": []
   },
   "outputs": [
    {
     "name": "stdout",
     "output_type": "stream",
     "text": [
      "Hello my name is eric and i am 29 years old\n",
      "Hello my name is eric and i am 29 years old\n",
      "Hello my name is eric and i am 29 years old\n"
     ]
    }
   ],
   "source": [
    "name = 'eric'  #these aren't strictly needed\n",
    "age = 29\n",
    "\n",
    "introduction = 'Hello my name is {name} and i am {age} years old'.format(name='eric', age = 29)\n",
    "introduction_1 = 'Hello my name is {0} and i am {1} years old'.format('eric', 29)\n",
    "introduction_2 = 'Hello my name is {} and i am {} years old'.format('eric', 29)\n",
    "\n",
    "print(introduction)\n",
    "print(introduction_1)\n",
    "print(introduction_2) #goes in order of how you list them after the format "
   ]
  },
  {
   "cell_type": "code",
   "execution_count": 14,
   "id": "5f8848b9-911f-4965-a84c-e0f587b232ca",
   "metadata": {
    "tags": []
   },
   "outputs": [
    {
     "name": "stdout",
     "output_type": "stream",
     "text": [
      "Hello my name is eric and i am 29 years old\n"
     ]
    }
   ],
   "source": [
    "#f-strings\n",
    "name = 'eric'\n",
    "age = 29 \n",
    "\n",
    "print(f'Hello my name is {name} and i am {age} years old')\n"
   ]
  },
  {
   "cell_type": "markdown",
   "id": "0f7adac6-8d5c-45d9-a007-b6299d5f5680",
   "metadata": {},
   "source": [
    "# Changing Strings"
   ]
  },
  {
   "cell_type": "code",
   "execution_count": 15,
   "id": "e085f562-1310-4571-ab21-72ffbec65bda",
   "metadata": {
    "tags": []
   },
   "outputs": [],
   "source": [
    "number_string = '100' #this is a string because of the ''"
   ]
  },
  {
   "cell_type": "code",
   "execution_count": 19,
   "id": "294d8851-aad6-4f52-80e3-bb1d4a902527",
   "metadata": {
    "tags": []
   },
   "outputs": [],
   "source": [
    "number_int = int(number_string)"
   ]
  },
  {
   "cell_type": "code",
   "execution_count": 20,
   "id": "033c9e73-08d8-4ec7-a283-f975865fbfed",
   "metadata": {
    "tags": []
   },
   "outputs": [
    {
     "name": "stdout",
     "output_type": "stream",
     "text": [
      "100\n"
     ]
    }
   ],
   "source": [
    "print(number_int)"
   ]
  },
  {
   "cell_type": "code",
   "execution_count": 21,
   "id": "da1271a6-7775-451c-9aad-8fe6145186dd",
   "metadata": {
    "tags": []
   },
   "outputs": [
    {
     "data": {
      "text/plain": [
       "int"
      ]
     },
     "execution_count": 21,
     "metadata": {},
     "output_type": "execute_result"
    }
   ],
   "source": [
    "type(number_int)"
   ]
  },
  {
   "cell_type": "code",
   "execution_count": 25,
   "id": "8b858c1e-91d8-4d64-8b60-7bb990ad9ebf",
   "metadata": {
    "tags": []
   },
   "outputs": [
    {
     "name": "stdout",
     "output_type": "stream",
     "text": [
      "100\n"
     ]
    }
   ],
   "source": [
    "new_str = str(number_int)\n",
    "\n",
    "print(new_str)"
   ]
  },
  {
   "cell_type": "code",
   "execution_count": 28,
   "id": "62e3bd59-0f63-4732-b9ad-4fd230552933",
   "metadata": {
    "tags": []
   },
   "outputs": [
    {
     "data": {
      "text/plain": [
       "str"
      ]
     },
     "execution_count": 28,
     "metadata": {},
     "output_type": "execute_result"
    }
   ],
   "source": [
    "type(new_str)"
   ]
  },
  {
   "cell_type": "code",
   "execution_count": 30,
   "id": "4dd2cdd3-077c-4a26-b6b4-47cc506f4a49",
   "metadata": {
    "tags": []
   },
   "outputs": [
    {
     "data": {
      "text/plain": [
       "float"
      ]
     },
     "execution_count": 30,
     "metadata": {},
     "output_type": "execute_result"
    }
   ],
   "source": [
    "number_float = float(number_string) #float is a decimal \n",
    "\n",
    "type(number_float)"
   ]
  },
  {
   "cell_type": "code",
   "execution_count": 31,
   "id": "70198f16-d61c-434f-9860-535c1e94d59c",
   "metadata": {
    "tags": []
   },
   "outputs": [
    {
     "name": "stdout",
     "output_type": "stream",
     "text": [
      "100.0\n"
     ]
    }
   ],
   "source": [
    "print(number_float)"
   ]
  },
  {
   "cell_type": "code",
   "execution_count": 32,
   "id": "3b7fb4c6-44c0-4851-9204-5cdcaaae1c2b",
   "metadata": {
    "tags": []
   },
   "outputs": [
    {
     "data": {
      "text/plain": [
       "str"
      ]
     },
     "execution_count": 32,
     "metadata": {},
     "output_type": "execute_result"
    }
   ],
   "source": [
    "number_2_str = str(number_float)\n",
    "\n",
    "type(number_2_str)"
   ]
  },
  {
   "cell_type": "code",
   "execution_count": null,
   "id": "811df64f-55a9-4d92-ac44-199d61bcba95",
   "metadata": {},
   "outputs": [],
   "source": [
    "#changing a string involves \"wrapping\" the key word around it "
   ]
  },
  {
   "cell_type": "markdown",
   "id": "cd2ea900-922f-498e-9049-0fb3eb76e34a",
   "metadata": {},
   "source": [
    "# Concatenation"
   ]
  },
  {
   "cell_type": "code",
   "execution_count": 35,
   "id": "16fdbe27-cb53-4476-9c50-3230afe354de",
   "metadata": {
    "tags": []
   },
   "outputs": [
    {
     "name": "stdout",
     "output_type": "stream",
     "text": [
      "I love both Dogs and Cats\n",
      "Dogs & Cats\n"
     ]
    }
   ],
   "source": [
    "dog = 'Dogs'\n",
    "cat = 'Cats'\n",
    "pets = dog+' & ' +cat  #concatenation - combining two strings\n",
    "\n",
    "print('I love both '+dog+' and '+cat)\n",
    "print(pets)"
   ]
  },
  {
   "cell_type": "code",
   "execution_count": 36,
   "id": "f490239d-fa93-4e0c-bd00-f27a5b78c8da",
   "metadata": {
    "tags": []
   },
   "outputs": [
    {
     "data": {
      "text/plain": [
       "5"
      ]
     },
     "execution_count": 36,
     "metadata": {},
     "output_type": "execute_result"
    }
   ],
   "source": [
    "#index()\n",
    "\n",
    "pets.index('&')"
   ]
  },
  {
   "cell_type": "code",
   "execution_count": 38,
   "id": "a57396fb-0a74-4d0d-9ec8-0f6c4f05c08e",
   "metadata": {
    "tags": []
   },
   "outputs": [
    {
     "name": "stdout",
     "output_type": "stream",
     "text": [
      "True\n"
     ]
    }
   ],
   "source": [
    "#isupper() #checks for uppercase (all uppercase)\n",
    "pets = 'DOG CAT'\n",
    "print(pets.isupper())\n"
   ]
  },
  {
   "cell_type": "code",
   "execution_count": 42,
   "id": "0249b3d7-015e-421e-923e-516003c453ce",
   "metadata": {
    "tags": []
   },
   "outputs": [
    {
     "name": "stdout",
     "output_type": "stream",
     "text": [
      "True\n"
     ]
    }
   ],
   "source": [
    "#islower() #checks for lowercase (all lowercase)\n",
    "\n",
    "pets = 'dogs & cats'\n",
    "\n",
    "print(pets.islower())"
   ]
  },
  {
   "cell_type": "markdown",
   "id": "35ca7422-c3b1-4b59-b08c-1cd893480723",
   "metadata": {},
   "source": [
    "# User Inputs"
   ]
  },
  {
   "cell_type": "code",
   "execution_count": 43,
   "id": "85e9cebd-da21-4ba6-929c-16f07d2151b7",
   "metadata": {
    "tags": []
   },
   "outputs": [
    {
     "name": "stdin",
     "output_type": "stream",
     "text": [
      "Enter your full name:  Margaret Hylan\n"
     ]
    },
    {
     "data": {
      "text/plain": [
       "'Margaret Hylan'"
      ]
     },
     "execution_count": 43,
     "metadata": {},
     "output_type": "execute_result"
    }
   ],
   "source": [
    "user_query = input('Enter your full name: ')\n",
    "user_query"
   ]
  },
  {
   "cell_type": "code",
   "execution_count": 48,
   "id": "813020c7-771f-47d7-adf1-307fbfb9a2fb",
   "metadata": {
    "tags": []
   },
   "outputs": [
    {
     "name": "stdin",
     "output_type": "stream",
     "text": [
      "Enter a number between 0 and 10:  5\n"
     ]
    }
   ],
   "source": [
    "user_query_1 = int(input('Enter a number between 0 and 10: '))"
   ]
  },
  {
   "cell_type": "code",
   "execution_count": 50,
   "id": "1d80d816-41ba-4d4d-b2d6-c4810138ed7d",
   "metadata": {
    "tags": []
   },
   "outputs": [
    {
     "data": {
      "text/plain": [
       "int"
      ]
     },
     "execution_count": 50,
     "metadata": {},
     "output_type": "execute_result"
    }
   ],
   "source": [
    "type(user_query_1) #everything is a string to change it you would have to wrap it int(input "
   ]
  },
  {
   "cell_type": "code",
   "execution_count": 52,
   "id": "c75f93af-0301-4a87-94c1-420cdd0be562",
   "metadata": {
    "tags": []
   },
   "outputs": [
    {
     "name": "stdin",
     "output_type": "stream",
     "text": [
      "Enter a number between 0 and 10:  10\n"
     ]
    }
   ],
   "source": [
    "add_ten = int(input('Enter a number between 0 and 10: ')) + 10"
   ]
  },
  {
   "cell_type": "code",
   "execution_count": 53,
   "id": "be546fc3-a6d7-4354-8909-f575acaf162b",
   "metadata": {
    "tags": []
   },
   "outputs": [
    {
     "name": "stdout",
     "output_type": "stream",
     "text": [
      "20\n"
     ]
    }
   ],
   "source": [
    "print(add_ten)"
   ]
  },
  {
   "cell_type": "markdown",
   "id": "729d555f-3405-453c-a61f-7f312d86d507",
   "metadata": {},
   "source": [
    "# Lists"
   ]
  },
  {
   "cell_type": "code",
   "execution_count": 55,
   "id": "a3aff2c9-c14d-4dde-a114-9d55964602fb",
   "metadata": {
    "tags": []
   },
   "outputs": [],
   "source": [
    "empty_list = []  #empty list\n",
    "\n",
    "my_list = [1,3,4,6,7,6,5,0] #allows duplicate values and out of order"
   ]
  },
  {
   "cell_type": "code",
   "execution_count": 57,
   "id": "52e00ce6-96f7-4c9b-9866-17c3c5a638f4",
   "metadata": {
    "tags": []
   },
   "outputs": [
    {
     "data": {
      "text/plain": [
       "6"
      ]
     },
     "execution_count": 57,
     "metadata": {},
     "output_type": "execute_result"
    }
   ],
   "source": [
    "#indexing \n",
    "\n",
    "my_list[5]"
   ]
  },
  {
   "cell_type": "code",
   "execution_count": 58,
   "id": "38932475-e696-4f9f-874b-4253ddd310af",
   "metadata": {
    "tags": []
   },
   "outputs": [
    {
     "data": {
      "text/plain": [
       "[1, 3, 4, 6, 7, 6, 5, 0]"
      ]
     },
     "execution_count": 58,
     "metadata": {},
     "output_type": "execute_result"
    }
   ],
   "source": [
    "my_list"
   ]
  },
  {
   "cell_type": "code",
   "execution_count": 61,
   "id": "49892b75-924a-4c7a-b47b-4857a5a661ca",
   "metadata": {
    "tags": []
   },
   "outputs": [
    {
     "name": "stdout",
     "output_type": "stream",
     "text": [
      "7\n"
     ]
    },
    {
     "data": {
      "text/plain": [
       "[1, 3, 4, 6]"
      ]
     },
     "execution_count": 61,
     "metadata": {},
     "output_type": "execute_result"
    }
   ],
   "source": [
    "#slicing \n",
    "print(my_list[4])\n",
    "my_list[0:4] #does not include value at the 4th index"
   ]
  },
  {
   "cell_type": "code",
   "execution_count": 62,
   "id": "339a344e-760b-43e9-9878-10d87309d0ed",
   "metadata": {
    "tags": []
   },
   "outputs": [
    {
     "name": "stdout",
     "output_type": "stream",
     "text": [
      "[1, 3, 4, 6, 7, 6, 5, 0]\n",
      "4\n",
      "6\n"
     ]
    },
    {
     "data": {
      "text/plain": [
       "[4, 6, 7]"
      ]
     },
     "execution_count": 62,
     "metadata": {},
     "output_type": "execute_result"
    }
   ],
   "source": [
    "print(my_list)\n",
    "print(my_list[2])\n",
    "print(my_list[5])\n",
    "\n",
    "my_list[2:5]"
   ]
  },
  {
   "cell_type": "code",
   "execution_count": 66,
   "id": "770851af-35ea-4a58-babd-0202aca7b977",
   "metadata": {
    "tags": []
   },
   "outputs": [
    {
     "name": "stdout",
     "output_type": "stream",
     "text": [
      "[1, 3, 4, 6, 7, 6, 5, 0]\n",
      "[4, 6, 7, 6, 5, 0]\n"
     ]
    }
   ],
   "source": [
    "print(my_list[0:])\n",
    "\n",
    "print(my_list[2:])"
   ]
  },
  {
   "cell_type": "code",
   "execution_count": 67,
   "id": "c22013fb-771c-42df-90a4-fda240b7a018",
   "metadata": {
    "tags": []
   },
   "outputs": [
    {
     "data": {
      "text/plain": [
       "[5, 0]"
      ]
     },
     "execution_count": 67,
     "metadata": {},
     "output_type": "execute_result"
    }
   ],
   "source": [
    "my_list[6:]"
   ]
  },
  {
   "cell_type": "code",
   "execution_count": 68,
   "id": "70d6071a-0ed5-47d9-8b81-5de75061aaaa",
   "metadata": {
    "tags": []
   },
   "outputs": [
    {
     "data": {
      "text/plain": [
       "[1, 3, 4, 6, 7]"
      ]
     },
     "execution_count": 68,
     "metadata": {},
     "output_type": "execute_result"
    }
   ],
   "source": [
    "my_list[:5]"
   ]
  },
  {
   "cell_type": "code",
   "execution_count": 70,
   "id": "d3de460a-3ed0-4d6b-8090-655bf17ec54d",
   "metadata": {
    "tags": []
   },
   "outputs": [
    {
     "data": {
      "text/plain": [
       "0"
      ]
     },
     "execution_count": 70,
     "metadata": {},
     "output_type": "execute_result"
    }
   ],
   "source": [
    "my_list[-1] #this is the last number "
   ]
  },
  {
   "cell_type": "code",
   "execution_count": 72,
   "id": "c2aac6f9-bb99-430c-9b00-3b23d6bc25a2",
   "metadata": {
    "tags": []
   },
   "outputs": [
    {
     "data": {
      "text/plain": [
       "6"
      ]
     },
     "execution_count": 72,
     "metadata": {},
     "output_type": "execute_result"
    }
   ],
   "source": [
    "my_list[-3] #third from last number"
   ]
  },
  {
   "cell_type": "code",
   "execution_count": 73,
   "id": "0289c488-b4b2-41b2-a308-eccbf3a0ace8",
   "metadata": {
    "tags": []
   },
   "outputs": [
    {
     "name": "stdout",
     "output_type": "stream",
     "text": [
      "[1, 3, 4, 6, 7, 6, 5, 0]\n",
      "[4, 6, 7]\n"
     ]
    }
   ],
   "source": [
    "print(my_list)\n",
    "print(my_list[2:-3])"
   ]
  },
  {
   "cell_type": "code",
   "execution_count": 75,
   "id": "8376a9a5-364e-4ee8-91e8-39b9aa3e9eff",
   "metadata": {
    "tags": []
   },
   "outputs": [
    {
     "data": {
      "text/plain": [
       "8"
      ]
     },
     "execution_count": 75,
     "metadata": {},
     "output_type": "execute_result"
    }
   ],
   "source": [
    "#Length\n",
    "len(my_list) #how long is a my list"
   ]
  },
  {
   "cell_type": "code",
   "execution_count": 77,
   "id": "700406f2-3646-4ce9-b8e1-f1048e3ce544",
   "metadata": {
    "tags": []
   },
   "outputs": [
    {
     "name": "stdout",
     "output_type": "stream",
     "text": [
      "[1, 3, 4, 6, 7, 6, 5, 0, 3, 3]\n"
     ]
    }
   ],
   "source": [
    "#appending or adding to a list \n",
    "#append()\n",
    "\n",
    "my_list.append(3) #adding a 3\n",
    "\n",
    "print(my_list)"
   ]
  },
  {
   "cell_type": "code",
   "execution_count": null,
   "id": "99581988-e233-43c6-91c4-80e37d4fd492",
   "metadata": {},
   "outputs": [],
   "source": [
    "#Maxtrixes\n",
    "\n",
    "my_matrix = [[1,2,3], \n",
    "             [4,5,6], \n",
    "             [7,8,9]]"
   ]
  },
  {
   "cell_type": "code",
   "execution_count": 79,
   "id": "72aa020b-fee8-4eb2-9a21-70196d098611",
   "metadata": {
    "tags": []
   },
   "outputs": [],
   "source": [
    "mix_list = ['Tom', 'Will', 'Mary', 3, 4, 5, 7, True, False, [4,5,34]]"
   ]
  },
  {
   "cell_type": "markdown",
   "id": "50f0cba8-46e3-4299-b7ba-0fb74851ccab",
   "metadata": {},
   "source": [
    "# Tuples"
   ]
  },
  {
   "cell_type": "code",
   "execution_count": 80,
   "id": "cbcf5a53-065d-4633-b777-f50bedb0bc5d",
   "metadata": {
    "tags": []
   },
   "outputs": [
    {
     "name": "stdout",
     "output_type": "stream",
     "text": [
      "()\n"
     ]
    }
   ],
   "source": [
    "empty_tuple = ()\n",
    "\n",
    "print(empty_tuple)"
   ]
  },
  {
   "cell_type": "code",
   "execution_count": 81,
   "id": "db1e30d0-5d43-49c2-b782-6614626b34a9",
   "metadata": {
    "tags": []
   },
   "outputs": [
    {
     "name": "stdout",
     "output_type": "stream",
     "text": [
      "('basketball', 'football', 'tennis')\n"
     ]
    }
   ],
   "source": [
    "my_tuple = ('basketball', 'football', 'tennis')\n",
    "print(my_tuple)"
   ]
  },
  {
   "cell_type": "code",
   "execution_count": 82,
   "id": "219bfca9-e4c5-4b93-9352-863e081ea764",
   "metadata": {
    "tags": []
   },
   "outputs": [
    {
     "data": {
      "text/plain": [
       "'basketball'"
      ]
     },
     "execution_count": 82,
     "metadata": {},
     "output_type": "execute_result"
    }
   ],
   "source": [
    "my_tuple[0]"
   ]
  },
  {
   "cell_type": "code",
   "execution_count": 83,
   "id": "ed79170f-67b2-434d-8ce4-3c60e8b2f431",
   "metadata": {
    "tags": []
   },
   "outputs": [
    {
     "data": {
      "text/plain": [
       "'tennis'"
      ]
     },
     "execution_count": 83,
     "metadata": {},
     "output_type": "execute_result"
    }
   ],
   "source": [
    "my_tuple[2]"
   ]
  },
  {
   "cell_type": "code",
   "execution_count": 84,
   "id": "2ad856fc-bd8a-4f44-bce5-f04603cf5f8e",
   "metadata": {
    "tags": []
   },
   "outputs": [
    {
     "ename": "AttributeError",
     "evalue": "'tuple' object has no attribute 'append'",
     "output_type": "error",
     "traceback": [
      "\u001b[1;31m---------------------------------------------------------------------------\u001b[0m",
      "\u001b[1;31mAttributeError\u001b[0m                            Traceback (most recent call last)",
      "Cell \u001b[1;32mIn[84], line 1\u001b[0m\n\u001b[1;32m----> 1\u001b[0m my_tuple\u001b[38;5;241m.\u001b[39mappend(\u001b[38;5;124m'\u001b[39m\u001b[38;5;124mCurling\u001b[39m\u001b[38;5;124m'\u001b[39m)\n",
      "\u001b[1;31mAttributeError\u001b[0m: 'tuple' object has no attribute 'append'"
     ]
    }
   ],
   "source": [
    "my_tuple.append('Curling') # error you cannot add to a tuple "
   ]
  },
  {
   "cell_type": "code",
   "execution_count": 85,
   "id": "c31307e2-1083-4d29-940c-c93038c0ea57",
   "metadata": {
    "tags": []
   },
   "outputs": [
    {
     "ename": "AttributeError",
     "evalue": "'tuple' object has no attribute 'remove'",
     "output_type": "error",
     "traceback": [
      "\u001b[1;31m---------------------------------------------------------------------------\u001b[0m",
      "\u001b[1;31mAttributeError\u001b[0m                            Traceback (most recent call last)",
      "Cell \u001b[1;32mIn[85], line 1\u001b[0m\n\u001b[1;32m----> 1\u001b[0m my_tuple\u001b[38;5;241m.\u001b[39mremove(\u001b[38;5;124m'\u001b[39m\u001b[38;5;124mbasketball\u001b[39m\u001b[38;5;124m'\u001b[39m)\n",
      "\u001b[1;31mAttributeError\u001b[0m: 'tuple' object has no attribute 'remove'"
     ]
    }
   ],
   "source": [
    "my_tuple.remove('basketball') #error cannot remove from tuple "
   ]
  },
  {
   "cell_type": "code",
   "execution_count": 87,
   "id": "d34c0fc0-9a6b-4cd3-906a-fc3df1f37b02",
   "metadata": {
    "tags": []
   },
   "outputs": [],
   "source": [
    "### the tuple constructor ====> tuple()\n",
    "\n",
    "tuple_names = tuple(('Tom', 'Mary', 'Naomi'))"
   ]
  },
  {
   "cell_type": "code",
   "execution_count": 88,
   "id": "2b70e87e-ca4e-457d-8fe7-178f5aaf288f",
   "metadata": {
    "tags": []
   },
   "outputs": [
    {
     "name": "stdout",
     "output_type": "stream",
     "text": [
      "('Tom', 'Mary', 'Naomi')\n"
     ]
    }
   ],
   "source": [
    "print(tuple_names)"
   ]
  },
  {
   "cell_type": "code",
   "execution_count": 89,
   "id": "075cab59-aa45-457c-83d2-75474bb1c37e",
   "metadata": {
    "tags": []
   },
   "outputs": [],
   "source": [
    "tup = 1,2,4,5"
   ]
  },
  {
   "cell_type": "code",
   "execution_count": 90,
   "id": "6c6c1b08-3cb2-4451-b63e-827f654056d9",
   "metadata": {
    "tags": []
   },
   "outputs": [
    {
     "data": {
      "text/plain": [
       "tuple"
      ]
     },
     "execution_count": 90,
     "metadata": {},
     "output_type": "execute_result"
    }
   ],
   "source": [
    "type(tup)"
   ]
  },
  {
   "cell_type": "code",
   "execution_count": 91,
   "id": "9ca379cf-3f04-42c9-9d9f-d34287a83826",
   "metadata": {
    "tags": []
   },
   "outputs": [],
   "source": [
    "list_names = list(tuple_names)"
   ]
  },
  {
   "cell_type": "code",
   "execution_count": 92,
   "id": "383716b0-cc30-478b-b17f-8e74ad17624d",
   "metadata": {
    "tags": []
   },
   "outputs": [
    {
     "data": {
      "text/plain": [
       "list"
      ]
     },
     "execution_count": 92,
     "metadata": {},
     "output_type": "execute_result"
    }
   ],
   "source": [
    "type(list_names)"
   ]
  },
  {
   "cell_type": "code",
   "execution_count": 95,
   "id": "5ad10770-c42e-4a96-a11f-cda8b6f233c0",
   "metadata": {
    "tags": []
   },
   "outputs": [
    {
     "name": "stdout",
     "output_type": "stream",
     "text": [
      "['Tom', 'Mary', 'Naomi', 'Becky', 'Becky', 'Becky']\n"
     ]
    }
   ],
   "source": [
    "#cannot change tuple, but can change tuple to a list and add or remove and then change back to tuple \n",
    "\n",
    "list_names.append('Becky')\n",
    "\n",
    "print(list_names)"
   ]
  },
  {
   "cell_type": "code",
   "execution_count": 97,
   "id": "b965b10c-3e04-498f-bcae-9a7ce90b3e0e",
   "metadata": {
    "tags": []
   },
   "outputs": [
    {
     "data": {
      "text/plain": [
       "tuple"
      ]
     },
     "execution_count": 97,
     "metadata": {},
     "output_type": "execute_result"
    }
   ],
   "source": [
    "tuples_names = tuple(list_names)\n",
    "\n",
    "type(tuple_names)"
   ]
  },
  {
   "cell_type": "code",
   "execution_count": 98,
   "id": "c6f5b91a-a76e-4d08-8f17-dd51ee702803",
   "metadata": {
    "tags": []
   },
   "outputs": [],
   "source": [
    "#how to remove a list from a tuple ==> \n",
    "\n",
    "list_names_remove = list(tuple_names)"
   ]
  },
  {
   "cell_type": "code",
   "execution_count": 99,
   "id": "5710c71a-5607-4580-a03b-429849bff12a",
   "metadata": {
    "tags": []
   },
   "outputs": [
    {
     "data": {
      "text/plain": [
       "list"
      ]
     },
     "execution_count": 99,
     "metadata": {},
     "output_type": "execute_result"
    }
   ],
   "source": [
    "type(list_names_remove)"
   ]
  },
  {
   "cell_type": "code",
   "execution_count": 100,
   "id": "7ac13fda-6879-4c3c-809c-88f1bb4d5a17",
   "metadata": {
    "tags": []
   },
   "outputs": [
    {
     "data": {
      "text/plain": [
       "['Tom', 'Mary', 'Naomi']"
      ]
     },
     "execution_count": 100,
     "metadata": {},
     "output_type": "execute_result"
    }
   ],
   "source": [
    "list_names_remove"
   ]
  },
  {
   "cell_type": "code",
   "execution_count": 101,
   "id": "383e9de5-de47-462a-8b97-2b0da698ebd3",
   "metadata": {
    "tags": []
   },
   "outputs": [],
   "source": [
    "list_names_remove.remove('Mary')"
   ]
  },
  {
   "cell_type": "code",
   "execution_count": 102,
   "id": "400708b5-94bd-47e8-91bc-9f60ac07f67c",
   "metadata": {
    "tags": []
   },
   "outputs": [
    {
     "data": {
      "text/plain": [
       "['Tom', 'Naomi']"
      ]
     },
     "execution_count": 102,
     "metadata": {},
     "output_type": "execute_result"
    }
   ],
   "source": [
    "list_names_remove"
   ]
  },
  {
   "cell_type": "code",
   "execution_count": 103,
   "id": "64532eeb-6596-4045-bbe8-509f3fbb8153",
   "metadata": {
    "tags": []
   },
   "outputs": [
    {
     "name": "stdout",
     "output_type": "stream",
     "text": [
      "<class 'tuple'>\n",
      "('Tom', 'Naomi')\n"
     ]
    }
   ],
   "source": [
    "tuple_names = tuple((list_names_remove))\n",
    "print(type(tuple_names))\n",
    "print(tuple_names)"
   ]
  },
  {
   "cell_type": "code",
   "execution_count": 107,
   "id": "7f2cc6f2-5242-431e-928f-794fc56e47a3",
   "metadata": {
    "tags": []
   },
   "outputs": [],
   "source": [
    "tuple_pets = ('cat', 'dog', 'sparrow')"
   ]
  },
  {
   "cell_type": "code",
   "execution_count": 111,
   "id": "71861be5-3a77-4019-aa2b-48cf6172ca50",
   "metadata": {
    "tags": []
   },
   "outputs": [
    {
     "data": {
      "text/plain": [
       "('Tom', 'Naomi', 'cat', 'dog', 'sparrow')"
      ]
     },
     "execution_count": 111,
     "metadata": {},
     "output_type": "execute_result"
    }
   ],
   "source": [
    "join_tuple = tuple_names + tuple_pets\n",
    "\n",
    "join_tuple"
   ]
  },
  {
   "cell_type": "code",
   "execution_count": 112,
   "id": "d2c86abd-786b-4206-815e-1ed246362dd1",
   "metadata": {
    "tags": []
   },
   "outputs": [],
   "source": [
    "tup_single = ('Python')"
   ]
  },
  {
   "cell_type": "code",
   "execution_count": 113,
   "id": "15f7b887-4662-4701-88ce-0611c5dc5df9",
   "metadata": {
    "tags": []
   },
   "outputs": [
    {
     "data": {
      "text/plain": [
       "str"
      ]
     },
     "execution_count": 113,
     "metadata": {},
     "output_type": "execute_result"
    }
   ],
   "source": [
    "type(tup_single) #it says that it is a string bc it doesn't have a comma at the end "
   ]
  },
  {
   "cell_type": "code",
   "execution_count": 116,
   "id": "8b235a53-5e63-4e6c-bd9a-7acd74085661",
   "metadata": {
    "tags": []
   },
   "outputs": [
    {
     "data": {
      "text/plain": [
       "tuple"
      ]
     },
     "execution_count": 116,
     "metadata": {},
     "output_type": "execute_result"
    }
   ],
   "source": [
    "tup_single = ('Python',)\n",
    "type(tup_single)"
   ]
  },
  {
   "cell_type": "code",
   "execution_count": 118,
   "id": "198bd680-2c24-4884-9323-7ce4e072dac3",
   "metadata": {
    "tags": []
   },
   "outputs": [],
   "source": [
    "join_tupples_1 = join_tuple + tup_single"
   ]
  },
  {
   "cell_type": "code",
   "execution_count": 119,
   "id": "55370d3e-4891-4dea-80e9-f9faa8d2a738",
   "metadata": {
    "tags": []
   },
   "outputs": [
    {
     "data": {
      "text/plain": [
       "('Tom', 'Naomi', 'cat', 'dog', 'sparrow', 'Python')"
      ]
     },
     "execution_count": 119,
     "metadata": {},
     "output_type": "execute_result"
    }
   ],
   "source": [
    "join_tupples_1"
   ]
  },
  {
   "cell_type": "code",
   "execution_count": null,
   "id": "66d264e7-8428-41ce-a35f-3ee1d9420b6d",
   "metadata": {},
   "outputs": [],
   "source": [
    "#built-in methods\n",
    "\n",
    "#index()\n",
    "#count()"
   ]
  },
  {
   "cell_type": "code",
   "execution_count": 122,
   "id": "ec98d1cc-a63a-4f90-94d2-c3c477d49c49",
   "metadata": {
    "tags": []
   },
   "outputs": [
    {
     "data": {
      "text/plain": [
       "2"
      ]
     },
     "execution_count": 122,
     "metadata": {},
     "output_type": "execute_result"
    }
   ],
   "source": [
    "join_tupples_1.index('cat')"
   ]
  },
  {
   "cell_type": "code",
   "execution_count": 123,
   "id": "71a10b1d-e630-4a79-bda4-3b85f5d7bae6",
   "metadata": {
    "tags": []
   },
   "outputs": [
    {
     "data": {
      "text/plain": [
       "1"
      ]
     },
     "execution_count": 123,
     "metadata": {},
     "output_type": "execute_result"
    }
   ],
   "source": [
    "join_tupples_1.count('cat')"
   ]
  },
  {
   "cell_type": "markdown",
   "id": "d54c11d3-67e7-4bc2-9053-7fdf27e887ee",
   "metadata": {},
   "source": [
    "# Basic Operators"
   ]
  },
  {
   "cell_type": "markdown",
   "id": "6e079a71-2a12-4bde-a075-01a4a5361f24",
   "metadata": {},
   "source": [
    "## Arithemic Operators"
   ]
  },
  {
   "cell_type": "code",
   "execution_count": null,
   "id": "a8504e1f-159b-4b6a-bbca-f40d0e3c1add",
   "metadata": {},
   "outputs": [],
   "source": [
    "+ - * /"
   ]
  },
  {
   "cell_type": "code",
   "execution_count": 124,
   "id": "418d3507-dc66-47d2-80a4-9584a8b8cfa9",
   "metadata": {
    "tags": []
   },
   "outputs": [
    {
     "data": {
      "text/plain": [
       "4"
      ]
     },
     "execution_count": 124,
     "metadata": {},
     "output_type": "execute_result"
    }
   ],
   "source": [
    "2+2"
   ]
  },
  {
   "cell_type": "code",
   "execution_count": 125,
   "id": "cc277e98-2057-4440-83c3-3f1049720caf",
   "metadata": {
    "tags": []
   },
   "outputs": [
    {
     "data": {
      "text/plain": [
       "12"
      ]
     },
     "execution_count": 125,
     "metadata": {},
     "output_type": "execute_result"
    }
   ],
   "source": [
    "4*3"
   ]
  },
  {
   "cell_type": "markdown",
   "id": "47dfe8a6-1c19-499a-be9f-6e3ac29b32d0",
   "metadata": {},
   "source": [
    "## Relational Comparsion"
   ]
  },
  {
   "cell_type": "code",
   "execution_count": null,
   "id": "a0defab9-128a-4654-896e-14457de6570b",
   "metadata": {},
   "outputs": [],
   "source": [
    "<,>, ==, != (not eequal to), >=, <= (greater than or equal to)"
   ]
  },
  {
   "cell_type": "code",
   "execution_count": 141,
   "id": "b98a3ea9-5073-4f8b-87b3-54bf2cb514ef",
   "metadata": {
    "tags": []
   },
   "outputs": [
    {
     "data": {
      "text/plain": [
       "True"
      ]
     },
     "execution_count": 141,
     "metadata": {},
     "output_type": "execute_result"
    }
   ],
   "source": [
    "5!=2"
   ]
  },
  {
   "cell_type": "code",
   "execution_count": 142,
   "id": "95a72c03-fbae-4333-aeb0-afe03c321c59",
   "metadata": {
    "tags": []
   },
   "outputs": [
    {
     "data": {
      "text/plain": [
       "False"
      ]
     },
     "execution_count": 142,
     "metadata": {},
     "output_type": "execute_result"
    }
   ],
   "source": [
    "5!=5"
   ]
  },
  {
   "cell_type": "markdown",
   "id": "4ca4b3fa-7a43-4233-8344-5bd4e6480d7c",
   "metadata": {},
   "source": [
    "## Assignment Operators "
   ]
  },
  {
   "cell_type": "code",
   "execution_count": 126,
   "id": "870e40d6-b0d9-48a2-8327-66b47369d391",
   "metadata": {
    "tags": []
   },
   "outputs": [
    {
     "name": "stdout",
     "output_type": "stream",
     "text": [
      "5\n"
     ]
    }
   ],
   "source": [
    "x = 5\n",
    "print(x)"
   ]
  },
  {
   "cell_type": "code",
   "execution_count": 130,
   "id": "bd418620-35c8-4a7b-a61c-941c942399d8",
   "metadata": {
    "tags": []
   },
   "outputs": [
    {
     "ename": "SyntaxError",
     "evalue": "invalid syntax (1626449289.py, line 1)",
     "output_type": "error",
     "traceback": [
      "\u001b[1;36m  Cell \u001b[1;32mIn[130], line 1\u001b[1;36m\u001b[0m\n\u001b[1;33m    +=x+3 is the same as x = x+3\u001b[0m\n\u001b[1;37m    ^\u001b[0m\n\u001b[1;31mSyntaxError\u001b[0m\u001b[1;31m:\u001b[0m invalid syntax\n"
     ]
    }
   ],
   "source": [
    "+=x+3 is the same as x = x+3"
   ]
  },
  {
   "cell_type": "code",
   "execution_count": 135,
   "id": "f2c9f2b6-d68b-46ee-94f2-e848c02f1b63",
   "metadata": {
    "tags": []
   },
   "outputs": [
    {
     "name": "stdout",
     "output_type": "stream",
     "text": [
      "18\n"
     ]
    }
   ],
   "source": [
    "x+= 3\n",
    "print(x)"
   ]
  },
  {
   "cell_type": "code",
   "execution_count": 132,
   "id": "d74f8fb6-65f5-49f7-b32f-a97b82450731",
   "metadata": {
    "tags": []
   },
   "outputs": [
    {
     "ename": "SyntaxError",
     "evalue": "invalid syntax (3227538186.py, line 1)",
     "output_type": "error",
     "traceback": [
      "\u001b[1;36m  Cell \u001b[1;32mIn[132], line 1\u001b[1;36m\u001b[0m\n\u001b[1;33m    x-= 1 is the same as x = x-1\u001b[0m\n\u001b[1;37m                 ^\u001b[0m\n\u001b[1;31mSyntaxError\u001b[0m\u001b[1;31m:\u001b[0m invalid syntax\n"
     ]
    }
   ],
   "source": [
    "x-= 1 is the same as x = x-1 "
   ]
  },
  {
   "cell_type": "code",
   "execution_count": 129,
   "id": "11e495ee-9615-45a0-babc-2e5bb97997ed",
   "metadata": {
    "tags": []
   },
   "outputs": [
    {
     "name": "stdout",
     "output_type": "stream",
     "text": [
      "6\n"
     ]
    }
   ],
   "source": [
    "x-=5\n",
    "print(x)"
   ]
  },
  {
   "cell_type": "code",
   "execution_count": null,
   "id": "90491bcf-393e-47e7-8fe5-8bc69c45b49c",
   "metadata": {},
   "outputs": [],
   "source": [
    "*= x*=5 is the same as x = x*5"
   ]
  },
  {
   "cell_type": "code",
   "execution_count": 137,
   "id": "79229754-8624-48b6-9bbc-efbf9793fd5f",
   "metadata": {
    "tags": []
   },
   "outputs": [],
   "source": [
    "x = 5 \n",
    "\n",
    "x*=5"
   ]
  },
  {
   "cell_type": "code",
   "execution_count": 138,
   "id": "3d9dd874-5ac8-4995-ae8c-83012836a9d7",
   "metadata": {
    "tags": []
   },
   "outputs": [
    {
     "name": "stdout",
     "output_type": "stream",
     "text": [
      "25\n"
     ]
    }
   ],
   "source": [
    "print(x)"
   ]
  },
  {
   "cell_type": "code",
   "execution_count": null,
   "id": "dbde6cc5-b829-4380-90f5-2182bb732674",
   "metadata": {},
   "outputs": [],
   "source": [
    "/= x/=5 is the same as x = x/5"
   ]
  },
  {
   "cell_type": "code",
   "execution_count": 140,
   "id": "634b5cf6-ae68-4871-90ac-1492a5b854ee",
   "metadata": {
    "tags": []
   },
   "outputs": [
    {
     "name": "stdout",
     "output_type": "stream",
     "text": [
      "1.0\n"
     ]
    }
   ],
   "source": [
    "x/=5\n",
    "print(x)"
   ]
  },
  {
   "cell_type": "markdown",
   "id": "386bbd86-2eb3-4976-81fd-3dc9a7afc182",
   "metadata": {},
   "source": [
    "## Logical Operators "
   ]
  },
  {
   "cell_type": "code",
   "execution_count": null,
   "id": "aadaddae-fd77-4046-a3b8-13712b39bb84",
   "metadata": {},
   "outputs": [],
   "source": [
    "and, or , not "
   ]
  },
  {
   "cell_type": "code",
   "execution_count": 143,
   "id": "ba800df3-5dee-4bc3-abf2-869cbf18d3c8",
   "metadata": {
    "tags": []
   },
   "outputs": [
    {
     "data": {
      "text/plain": [
       "False"
      ]
     },
     "execution_count": 143,
     "metadata": {},
     "output_type": "execute_result"
    }
   ],
   "source": [
    "2 == 2 and 3 == 1"
   ]
  },
  {
   "cell_type": "code",
   "execution_count": 144,
   "id": "a7cbdfbc-7c6e-47d9-a989-b831092dd5e8",
   "metadata": {
    "tags": []
   },
   "outputs": [
    {
     "data": {
      "text/plain": [
       "True"
      ]
     },
     "execution_count": 144,
     "metadata": {},
     "output_type": "execute_result"
    }
   ],
   "source": [
    "2 != 1 and 3 != 1 # both have to be true "
   ]
  },
  {
   "cell_type": "code",
   "execution_count": 145,
   "id": "63e2cd4e-9c1c-4dd5-af87-c26a1a618130",
   "metadata": {
    "tags": []
   },
   "outputs": [
    {
     "data": {
      "text/plain": [
       "True"
      ]
     },
     "execution_count": 145,
     "metadata": {},
     "output_type": "execute_result"
    }
   ],
   "source": [
    "2 == 2 or 3 == 1 # only one has to be true "
   ]
  },
  {
   "cell_type": "code",
   "execution_count": 147,
   "id": "dbc03281-bc9b-4fd5-a81d-eea52c46a50d",
   "metadata": {
    "tags": []
   },
   "outputs": [
    {
     "data": {
      "text/plain": [
       "False"
      ]
     },
     "execution_count": 147,
     "metadata": {},
     "output_type": "execute_result"
    }
   ],
   "source": [
    "list_1 = [1,2,3,4,1]\n",
    "1 not in list_1  # saying that 1 is not in the list "
   ]
  },
  {
   "cell_type": "markdown",
   "id": "a3a16828-0d0a-44a3-9b20-bee711357e33",
   "metadata": {},
   "source": [
    "# Membership Operators "
   ]
  },
  {
   "cell_type": "code",
   "execution_count": 148,
   "id": "704fba4e-4dde-4a90-a078-3ce9b17310a3",
   "metadata": {
    "tags": []
   },
   "outputs": [
    {
     "data": {
      "text/plain": [
       "True"
      ]
     },
     "execution_count": 148,
     "metadata": {},
     "output_type": "execute_result"
    }
   ],
   "source": [
    "list_1 =  [1,2,3,4,1]\n",
    "100 not in list_1"
   ]
  },
  {
   "cell_type": "markdown",
   "id": "ac7c13cf-7435-44fb-a10d-75dd6ac0d8ec",
   "metadata": {},
   "source": [
    "# Identity Operator"
   ]
  },
  {
   "cell_type": "code",
   "execution_count": 149,
   "id": "8c140ed8-7849-49b9-b642-cc5899f592fd",
   "metadata": {
    "tags": []
   },
   "outputs": [
    {
     "data": {
      "text/plain": [
       "False"
      ]
     },
     "execution_count": 149,
     "metadata": {},
     "output_type": "execute_result"
    }
   ],
   "source": [
    "# is and is not \n",
    "# used to compare the same object, not if the objects are equal\n",
    "\n",
    "x = [1,2,3,4]\n",
    "y  = [1,2,3,4]\n",
    "\n",
    "z = x\n",
    "x is y"
   ]
  },
  {
   "cell_type": "code",
   "execution_count": 150,
   "id": "517abc58-32ec-4b5f-9555-3ee7a76e055f",
   "metadata": {
    "tags": []
   },
   "outputs": [
    {
     "data": {
      "text/plain": [
       "True"
      ]
     },
     "execution_count": 150,
     "metadata": {},
     "output_type": "execute_result"
    }
   ],
   "source": [
    "x is z "
   ]
  },
  {
   "cell_type": "markdown",
   "id": "8f12c731-c9c0-403d-9b2b-516a85c6757a",
   "metadata": {
    "tags": []
   },
   "source": [
    "# Conditionals "
   ]
  },
  {
   "cell_type": "markdown",
   "id": "3f89c3b0-b14d-4bfe-8e5f-2375ffc8a757",
   "metadata": {},
   "source": [
    "### Single if Statements "
   ]
  },
  {
   "cell_type": "code",
   "execution_count": 153,
   "id": "28c7d826-8cb5-486c-863a-310667da883c",
   "metadata": {
    "tags": []
   },
   "outputs": [
    {
     "name": "stdout",
     "output_type": "stream",
     "text": [
      "b is greater than a\n"
     ]
    }
   ],
   "source": [
    "a = 10 \n",
    "b = 100\n",
    "c = 5 \n",
    "\n",
    "if b > a: \n",
    "    print('b is greater than a')\n",
    "else:\n",
    "    print('A is greater than B')"
   ]
  },
  {
   "cell_type": "code",
   "execution_count": 154,
   "id": "5160c914-11e3-447d-8dcc-3aff8663e254",
   "metadata": {
    "tags": []
   },
   "outputs": [
    {
     "name": "stdout",
     "output_type": "stream",
     "text": [
      "A  and B are equal\n"
     ]
    }
   ],
   "source": [
    "a = 100 \n",
    "b = 100\n",
    "#c = 100\n",
    "\n",
    "if b > a: \n",
    "    print('b is greater than a')\n",
    "elif b < a: \n",
    "    print('b is lesser than a')   # else if \n",
    "else:\n",
    "    print('A  and B are equal')"
   ]
  },
  {
   "cell_type": "markdown",
   "id": "f08c4068-ac1e-4daf-86b6-9b4ed9d92a3d",
   "metadata": {},
   "source": [
    "### Nested if Statements"
   ]
  },
  {
   "cell_type": "code",
   "execution_count": 157,
   "id": "3fd7e585-c057-4151-91e0-b93069e2f659",
   "metadata": {
    "tags": []
   },
   "outputs": [
    {
     "name": "stdout",
     "output_type": "stream",
     "text": [
      "B is greater than both A and C\n"
     ]
    }
   ],
   "source": [
    "a = 10 \n",
    "b = 100\n",
    "c = 5 \n",
    "\n",
    "if b > a: \n",
    "    if b > c:\n",
    "        print(\"B is greater than both A and C\")\n",
    "    elif b < c:\n",
    "        print('B is greater than A but less than C')\n",
    "    else: print('B is greater than A but equal to C')\n",
    "\n",
    "    \n",
    "else:\n",
    "        print('B is not greater than A')"
   ]
  },
  {
   "cell_type": "code",
   "execution_count": 158,
   "id": "a660d3c2-6be1-4dbf-9bab-15b919d29540",
   "metadata": {
    "tags": []
   },
   "outputs": [
    {
     "name": "stdout",
     "output_type": "stream",
     "text": [
      "B is not greater than A\n"
     ]
    }
   ],
   "source": [
    "a = 10 \n",
    "b = 1\n",
    "c = 5 \n",
    "\n",
    "if b > a: \n",
    "    if b > c:\n",
    "        print(\"B is greater than both A and C\")\n",
    "    elif b < c:\n",
    "        print('B is greater than A but less than C')\n",
    "    else: print('B is greater than A but equal to C')\n",
    "\n",
    "    \n",
    "else:\n",
    "        print('B is not greater than A')"
   ]
  },
  {
   "cell_type": "markdown",
   "id": "37c0cb62-ce95-48a1-b041-cb0eb873b112",
   "metadata": {},
   "source": [
    "# Loops"
   ]
  },
  {
   "cell_type": "markdown",
   "id": "f12ae168-e22c-4629-add4-34f34adc057e",
   "metadata": {},
   "source": [
    "### For Loops"
   ]
  },
  {
   "cell_type": "code",
   "execution_count": 159,
   "id": "bd2f66a9-2bf4-4822-83a2-33f35d9a3c63",
   "metadata": {
    "tags": []
   },
   "outputs": [
    {
     "name": "stdout",
     "output_type": "stream",
     "text": [
      "Benz\n",
      "BMW\n",
      "Audi\n"
     ]
    }
   ],
   "source": [
    "cars = ['Benz', 'BMW', 'Audi']\n",
    "\n",
    "print(cars [0])\n",
    "print(cars [1])\n",
    "print(cars [2])"
   ]
  },
  {
   "cell_type": "code",
   "execution_count": 161,
   "id": "1db6a848-f955-400b-b60f-88a9f9920b23",
   "metadata": {
    "tags": []
   },
   "outputs": [
    {
     "name": "stdout",
     "output_type": "stream",
     "text": [
      "Benz\n",
      "BMW\n",
      "Audi\n"
     ]
    }
   ],
   "source": [
    "for x in cars:     #same code result\n",
    "    print(x)"
   ]
  },
  {
   "cell_type": "markdown",
   "id": "0c07deb5-c4fa-4f7d-92ff-d92ef04e9c3c",
   "metadata": {},
   "source": [
    "### While Loops"
   ]
  },
  {
   "cell_type": "code",
   "execution_count": 163,
   "id": "c7d24335-218d-4c60-b9fc-d54b025ebcb1",
   "metadata": {
    "tags": []
   },
   "outputs": [],
   "source": [
    "i  = 0 \n",
    "while i, < 10:\n",
    "    print(i) # this really does run forever will break computer added (,) to ensure it doesnt run\n"
   ]
  },
  {
   "cell_type": "code",
   "execution_count": 164,
   "id": "645e13b6-b5f2-4f4e-b988-0d10ccc75c97",
   "metadata": {},
   "outputs": [
    {
     "name": "stdout",
     "output_type": "stream",
     "text": [
      "0\n",
      "1\n",
      "2\n",
      "3\n",
      "4\n",
      "5\n",
      "6\n",
      "7\n",
      "8\n",
      "9\n"
     ]
    }
   ],
   "source": [
    "i = 0 \n",
    "while i < 10:\n",
    "    print(i)\n",
    "    i+=1"
   ]
  },
  {
   "cell_type": "markdown",
   "id": "dadd3f5c-429b-43a5-bf22-a663fd7b8a9e",
   "metadata": {},
   "source": [
    "### Nested Loop"
   ]
  },
  {
   "cell_type": "code",
   "execution_count": 171,
   "id": "b10f5723-35a4-493f-b303-afe73ed7f778",
   "metadata": {
    "tags": []
   },
   "outputs": [
    {
     "name": "stdout",
     "output_type": "stream",
     "text": [
      "This list contains American cars\n"
     ]
    }
   ],
   "source": [
    "cars = [['Benz', 'BMW', 'Audi'], ['Ford','Dodge', 'Honda'], ['Toyota', 'Hyundai']]\n",
    "\n",
    "for lists in cars:\n",
    "    for models in lists: \n",
    "        if models == 'Ford':\n",
    "            print('This list contains American cars')\n"
   ]
  },
  {
   "cell_type": "markdown",
   "id": "454a4c4c-78f8-450c-94ea-7cef1162ef58",
   "metadata": {},
   "source": [
    "# Control Statements"
   ]
  },
  {
   "cell_type": "code",
   "execution_count": 181,
   "id": "f6010b0a-e370-4bcc-ba71-e18683f5b130",
   "metadata": {
    "tags": []
   },
   "outputs": [],
   "source": [
    "### continue\n",
    "numbers = [1,2,3,4,5,6]\n",
    "\n",
    "for i in numbers:\n",
    "    if i == 3:\n",
    "        continue \n",
    "        print(i)   # 1,2,4,5,6"
   ]
  },
  {
   "cell_type": "code",
   "execution_count": 182,
   "id": "5fa889dc-29fe-4320-b7f3-c62a825fb974",
   "metadata": {
    "tags": []
   },
   "outputs": [],
   "source": [
    "def myFunction(Name):\n",
    "    pass   #defined function but haven't told it what to do yet.. Will come back"
   ]
  },
  {
   "cell_type": "code",
   "execution_count": 184,
   "id": "023d5242-a2b0-4b50-a4cc-fed62c657e56",
   "metadata": {},
   "outputs": [
    {
     "name": "stdout",
     "output_type": "stream",
     "text": [
      "0\n",
      "1\n",
      "2\n",
      "3\n"
     ]
    }
   ],
   "source": [
    "### break \n",
    "\n",
    "i = 0 \n",
    "while i < 10:\n",
    "    print(i)\n",
    "    if i == 3:\n",
    "        break  #stop at 3 \n",
    "    i+=1\n",
    "        "
   ]
  },
  {
   "cell_type": "markdown",
   "id": "18ae59bd-fdbe-4fae-8741-fa00ee5a0d5b",
   "metadata": {},
   "source": [
    "# Construction of Dictionaries "
   ]
  },
  {
   "cell_type": "code",
   "execution_count": 188,
   "id": "19ff3f2b-1992-44c4-a802-26d67a9e95cb",
   "metadata": {},
   "outputs": [],
   "source": [
    "empty_dict = {}\n",
    "vechile = { \"brand\" : \"ford\", \"Year\": 2020, \"model\": \"Mustang\" }"
   ]
  },
  {
   "cell_type": "code",
   "execution_count": 190,
   "id": "40d1abc5-e93e-4041-9c03-f513bd6bda06",
   "metadata": {},
   "outputs": [
    {
     "name": "stdout",
     "output_type": "stream",
     "text": [
      "{'brand': 'ford', 'Year': 2020, 'model': 'Mustang'}\n"
     ]
    }
   ],
   "source": [
    "print(vechile)"
   ]
  },
  {
   "cell_type": "code",
   "execution_count": 193,
   "id": "e48f2445-80d1-4154-a137-b56b4e1dc607",
   "metadata": {},
   "outputs": [
    {
     "data": {
      "text/plain": [
       "'ford'"
      ]
     },
     "execution_count": 193,
     "metadata": {},
     "output_type": "execute_result"
    }
   ],
   "source": [
    "vechile['brand']"
   ]
  },
  {
   "cell_type": "code",
   "execution_count": 195,
   "id": "2b33ac2e-75a5-4361-b9cf-90698e18e9cb",
   "metadata": {
    "tags": []
   },
   "outputs": [
    {
     "name": "stdout",
     "output_type": "stream",
     "text": [
      "{'Annie': 10, 'Maddie': 5, 'Becky': 3}\n"
     ]
    }
   ],
   "source": [
    "assessment = {}\n",
    "\n",
    "scores = [('Annie', 10), ('Maddie', 5), ('Becky',3)]\n",
    "\n",
    "for name, score in scores:\n",
    "    assessment[name] = score    #could have been name = x and scores = y\n",
    "    \n",
    "print(assessment)"
   ]
  },
  {
   "cell_type": "markdown",
   "id": "3379ac7b-f2dc-432f-bf7a-840bcb9c34ac",
   "metadata": {},
   "source": [
    "## Ordered / Unordered"
   ]
  },
  {
   "cell_type": "code",
   "execution_count": 196,
   "id": "89500037-0b5e-41fe-837d-50e5cf1f410a",
   "metadata": {
    "tags": []
   },
   "outputs": [
    {
     "data": {
      "text/plain": [
       "dict_values([10, 5, 3])"
      ]
     },
     "execution_count": 196,
     "metadata": {},
     "output_type": "execute_result"
    }
   ],
   "source": [
    "# ordered: orderof the keys and values are maintained \n",
    "#unorderd: order of the keys and values are not maintained \n",
    "\n",
    "assessment.values()"
   ]
  },
  {
   "cell_type": "markdown",
   "id": "0bbb1b5c-23de-4372-92ef-d4e4afa44936",
   "metadata": {},
   "source": [
    "# Changeable "
   ]
  },
  {
   "cell_type": "code",
   "execution_count": 197,
   "id": "ed466853-e08a-42dd-98dc-f16d30afc212",
   "metadata": {
    "tags": []
   },
   "outputs": [],
   "source": [
    "assessment['Maddie'] = 8 "
   ]
  },
  {
   "cell_type": "code",
   "execution_count": 198,
   "id": "7c8852bf-fab2-4ddd-8491-fa3acb82004a",
   "metadata": {
    "tags": []
   },
   "outputs": [
    {
     "name": "stdout",
     "output_type": "stream",
     "text": [
      "{'Annie': 10, 'Maddie': 8, 'Becky': 3}\n"
     ]
    }
   ],
   "source": [
    "print(assessment)"
   ]
  },
  {
   "cell_type": "markdown",
   "id": "f9fa7efd-478e-4de1-88bb-37ce7c09e6b2",
   "metadata": {},
   "source": [
    "## Update Method "
   ]
  },
  {
   "cell_type": "code",
   "execution_count": 203,
   "id": "9f1683c5-729a-492b-a2dd-aafcd0e0f810",
   "metadata": {
    "tags": []
   },
   "outputs": [],
   "source": [
    "latest_assessment = {'Annie': 9, 'Becky': 4}\n",
    "assessment.update(latest_assessment)"
   ]
  },
  {
   "cell_type": "code",
   "execution_count": 204,
   "id": "a002be35-51bc-435b-9dbf-2f4d25c34044",
   "metadata": {
    "tags": []
   },
   "outputs": [
    {
     "name": "stdout",
     "output_type": "stream",
     "text": [
      "{'Annie': 9, 'Maddie': 8, 'Becky': 4}\n"
     ]
    }
   ],
   "source": [
    "print(assessment)"
   ]
  },
  {
   "cell_type": "markdown",
   "id": "b477c59e-9a6c-4b66-8ae0-1f71d1ce1505",
   "metadata": {},
   "source": [
    "## Duplicate (not allowed)"
   ]
  },
  {
   "cell_type": "code",
   "execution_count": 205,
   "id": "849ec4e6-0258-4938-97ab-e140c1148373",
   "metadata": {
    "tags": []
   },
   "outputs": [],
   "source": [
    "vechile = { \"brand\" : \"ford\", \"Year\": 2020, \"model\": \"Mustang\", \"Year\": 2021 }"
   ]
  },
  {
   "cell_type": "code",
   "execution_count": 206,
   "id": "39aa9e85-3616-451e-a2e2-f4ced8269544",
   "metadata": {
    "tags": []
   },
   "outputs": [
    {
     "name": "stdout",
     "output_type": "stream",
     "text": [
      "{'brand': 'ford', 'Year': 2021, 'model': 'Mustang'}\n"
     ]
    }
   ],
   "source": [
    "print(vechile)"
   ]
  },
  {
   "cell_type": "code",
   "execution_count": 207,
   "id": "27476b9c-f258-4b86-b0a6-dbd00feef403",
   "metadata": {
    "tags": []
   },
   "outputs": [
    {
     "data": {
      "text/plain": [
       "dict_keys(['brand', 'Year', 'model'])"
      ]
     },
     "execution_count": 207,
     "metadata": {},
     "output_type": "execute_result"
    }
   ],
   "source": [
    "vechile.keys()"
   ]
  },
  {
   "cell_type": "code",
   "execution_count": 209,
   "id": "87e884e7-1c82-45be-b484-375e566044f5",
   "metadata": {
    "tags": []
   },
   "outputs": [
    {
     "data": {
      "text/plain": [
       "2021"
      ]
     },
     "execution_count": 209,
     "metadata": {},
     "output_type": "execute_result"
    }
   ],
   "source": [
    "vechile['Year']"
   ]
  },
  {
   "cell_type": "markdown",
   "id": "1169fb22-b9c5-481f-b370-7ef4a4039c22",
   "metadata": {},
   "source": [
    "# Removal (Pop or Del)"
   ]
  },
  {
   "cell_type": "code",
   "execution_count": 211,
   "id": "bdbb1abb-5879-4fc7-a006-c43beaad9adb",
   "metadata": {
    "tags": []
   },
   "outputs": [
    {
     "data": {
      "text/plain": [
       "'ford'"
      ]
     },
     "execution_count": 211,
     "metadata": {},
     "output_type": "execute_result"
    }
   ],
   "source": [
    "vechile.pop('brand')"
   ]
  },
  {
   "cell_type": "code",
   "execution_count": 212,
   "id": "fe58f036-d7e1-4e98-8010-c731cf86d458",
   "metadata": {
    "tags": []
   },
   "outputs": [
    {
     "name": "stdout",
     "output_type": "stream",
     "text": [
      "{'Year': 2021, 'model': 'Mustang'}\n"
     ]
    }
   ],
   "source": [
    "print(vechile)"
   ]
  },
  {
   "cell_type": "code",
   "execution_count": 213,
   "id": "dfe6a88d-658e-4609-ac92-4f81bbf7a731",
   "metadata": {
    "tags": []
   },
   "outputs": [],
   "source": [
    "del(vechile['Year'])"
   ]
  },
  {
   "cell_type": "code",
   "execution_count": 214,
   "id": "33451974-db0c-4602-9d5e-f7b146e22170",
   "metadata": {
    "tags": []
   },
   "outputs": [
    {
     "name": "stdout",
     "output_type": "stream",
     "text": [
      "{'model': 'Mustang'}\n"
     ]
    }
   ],
   "source": [
    "print(vechile)"
   ]
  },
  {
   "cell_type": "code",
   "execution_count": 215,
   "id": "fca29bbe-be6a-4e4c-af42-cf3d4c57bbcc",
   "metadata": {
    "tags": []
   },
   "outputs": [],
   "source": [
    "del(vechile)"
   ]
  },
  {
   "cell_type": "code",
   "execution_count": 216,
   "id": "b9f5fc27-b8e5-46f8-82c1-9036a68c6cba",
   "metadata": {
    "tags": []
   },
   "outputs": [
    {
     "ename": "NameError",
     "evalue": "name 'vechile' is not defined",
     "output_type": "error",
     "traceback": [
      "\u001b[1;31m---------------------------------------------------------------------------\u001b[0m",
      "\u001b[1;31mNameError\u001b[0m                                 Traceback (most recent call last)",
      "Cell \u001b[1;32mIn[216], line 1\u001b[0m\n\u001b[1;32m----> 1\u001b[0m \u001b[38;5;28mprint\u001b[39m(vechile)\n",
      "\u001b[1;31mNameError\u001b[0m: name 'vechile' is not defined"
     ]
    }
   ],
   "source": [
    "print(vechile) #vechile has been fully deleted "
   ]
  },
  {
   "cell_type": "markdown",
   "id": "5eae4d2d-72fc-4654-bf1c-6cf47003f4c3",
   "metadata": {},
   "source": [
    "# Functions"
   ]
  },
  {
   "cell_type": "markdown",
   "id": "770f81bb-7975-4286-bcab-8c075726711d",
   "metadata": {},
   "source": [
    "### Creating a function"
   ]
  },
  {
   "cell_type": "code",
   "execution_count": 217,
   "id": "60d5fb22-1917-4791-a977-98ab58fda4a7",
   "metadata": {
    "tags": []
   },
   "outputs": [],
   "source": [
    "def myfunction():\n",
    "    print('Hello')"
   ]
  },
  {
   "cell_type": "code",
   "execution_count": 218,
   "id": "5c868606-8dfb-4799-bcf6-09a5fcf28eed",
   "metadata": {
    "tags": []
   },
   "outputs": [
    {
     "name": "stdout",
     "output_type": "stream",
     "text": [
      "Hello\n"
     ]
    }
   ],
   "source": [
    "myfunction()"
   ]
  },
  {
   "cell_type": "markdown",
   "id": "c49e3ec4-f2fc-4175-bb37-c90eb9e080d1",
   "metadata": {},
   "source": [
    "### Arguments "
   ]
  },
  {
   "cell_type": "code",
   "execution_count": 220,
   "id": "1b9e695e-aa1a-4637-a518-dcdf17c60081",
   "metadata": {
    "tags": []
   },
   "outputs": [],
   "source": [
    "def myfunction(name, age, height):\n",
    "    print('Hello Everyone', 'My name is '+name+'. I am',age,' and I am',height,' cm tall')"
   ]
  },
  {
   "cell_type": "code",
   "execution_count": 221,
   "id": "4118b119-95c4-4260-aa9b-8751bc2cfb8f",
   "metadata": {
    "tags": []
   },
   "outputs": [
    {
     "name": "stdout",
     "output_type": "stream",
     "text": [
      "Hello Everyone My name is Tom. I am 25  and I am 190  cm tall\n"
     ]
    }
   ],
   "source": [
    "name = 'Tom'\n",
    "age = 25\n",
    "height = 190\n",
    "\n",
    "myfunction(name, age, height)"
   ]
  },
  {
   "cell_type": "markdown",
   "id": "7c9d3fa2-c765-4690-aadf-77fd55e356d6",
   "metadata": {},
   "source": [
    "### Postional Argument"
   ]
  },
  {
   "cell_type": "code",
   "execution_count": 222,
   "id": "621efce3-d04a-43a3-adab-246b57310335",
   "metadata": {
    "tags": []
   },
   "outputs": [],
   "source": [
    "def team(name, project):\n",
    "    print('The', name, 'are working on the',project,'project')"
   ]
  },
  {
   "cell_type": "code",
   "execution_count": 223,
   "id": "da251074-69f4-447d-9ab4-2c4186b653ac",
   "metadata": {
    "tags": []
   },
   "outputs": [
    {
     "name": "stdout",
     "output_type": "stream",
     "text": [
      "The Plumbers are working on the Water project\n"
     ]
    }
   ],
   "source": [
    "team('Plumbers', 'Water')"
   ]
  },
  {
   "cell_type": "code",
   "execution_count": 224,
   "id": "b5681e5f-5495-4f60-8fee-05f22313380b",
   "metadata": {
    "tags": []
   },
   "outputs": [
    {
     "name": "stdout",
     "output_type": "stream",
     "text": [
      "The Water are working on the Plumbers project\n"
     ]
    }
   ],
   "source": [
    "team('Water','Plumbers')"
   ]
  },
  {
   "cell_type": "markdown",
   "id": "d8dacbd0-2931-4ef8-9f3b-ed6bd85e53d8",
   "metadata": {},
   "source": [
    "### Keyword Argument"
   ]
  },
  {
   "cell_type": "code",
   "execution_count": 225,
   "id": "fc221bba-f22d-41d3-9842-bcbe360a1823",
   "metadata": {
    "tags": []
   },
   "outputs": [],
   "source": [
    "def team(name, project):\n",
    "    print('The', name, 'are working on the',project,'project')"
   ]
  },
  {
   "cell_type": "code",
   "execution_count": 226,
   "id": "740fd547-941d-4ebc-b1a2-7935ba8e1c25",
   "metadata": {
    "tags": []
   },
   "outputs": [
    {
     "name": "stdout",
     "output_type": "stream",
     "text": [
      "The Plumbers are working on the Water project\n"
     ]
    }
   ],
   "source": [
    "team(name='Plumbers', project='Water')"
   ]
  },
  {
   "cell_type": "code",
   "execution_count": 227,
   "id": "12ca6c0c-6659-4b46-b20a-961c53bf8ea2",
   "metadata": {
    "tags": []
   },
   "outputs": [
    {
     "name": "stdout",
     "output_type": "stream",
     "text": [
      "The Plumbers are working on the Water project\n"
     ]
    }
   ],
   "source": [
    "team(project='Water', name='Plumbers')"
   ]
  },
  {
   "cell_type": "markdown",
   "id": "7487de5c-c900-4c82-a281-54d22c792084",
   "metadata": {},
   "source": [
    "### Anonymous Function (Lambda Functions)"
   ]
  },
  {
   "cell_type": "code",
   "execution_count": 228,
   "id": "6b9dcfca-8b58-48ef-9745-bbb54d8495df",
   "metadata": {
    "tags": []
   },
   "outputs": [
    {
     "name": "stdout",
     "output_type": "stream",
     "text": [
      "30\n"
     ]
    }
   ],
   "source": [
    "x = lambda number: number + 10\n",
    "print(x(20))"
   ]
  },
  {
   "cell_type": "code",
   "execution_count": 229,
   "id": "77bbfef3-7f30-41e3-b491-e2b12ba811dc",
   "metadata": {
    "tags": []
   },
   "outputs": [
    {
     "name": "stdout",
     "output_type": "stream",
     "text": [
      "12\n"
     ]
    }
   ],
   "source": [
    "y = lambda number_1, number_2 : number_1 + number_2\n",
    "print(y(10,2))"
   ]
  },
  {
   "cell_type": "code",
   "execution_count": 230,
   "id": "7d7b704e-1602-49ed-9e7b-8c106f3bca18",
   "metadata": {
    "tags": []
   },
   "outputs": [
    {
     "data": {
      "text/plain": [
       "12"
      ]
     },
     "execution_count": 230,
     "metadata": {},
     "output_type": "execute_result"
    }
   ],
   "source": [
    "def addition(number_1, number_2):\n",
    "    result = number_1 + number_2 \n",
    "    return result\n",
    "addition(10,2)"
   ]
  },
  {
   "cell_type": "markdown",
   "id": "7f76e349-695f-4863-8ea8-46e1f6e881bb",
   "metadata": {},
   "source": [
    "### Return Keyword"
   ]
  },
  {
   "cell_type": "code",
   "execution_count": 237,
   "id": "a5de07ec-2115-4930-a926-0799b0321f9e",
   "metadata": {
    "tags": []
   },
   "outputs": [],
   "source": [
    "def get_even(numbers):\n",
    "    even_numbers = []\n",
    "    \n",
    "    for i in numbers:\n",
    "        if i % 2 == 0:\n",
    "            even_numbers.append(i)\n",
    "            \n",
    "    return even_numbers"
   ]
  },
  {
   "cell_type": "code",
   "execution_count": 238,
   "id": "9a3f4307-8068-44b7-851c-48756faba5ce",
   "metadata": {
    "tags": []
   },
   "outputs": [
    {
     "data": {
      "text/plain": [
       "[2, 4, 6, 8, 10]"
      ]
     },
     "execution_count": 238,
     "metadata": {},
     "output_type": "execute_result"
    }
   ],
   "source": [
    "my_list = [1,2,3,4,5,6,7,8,9,10]\n",
    "get_even(my_list)"
   ]
  },
  {
   "cell_type": "markdown",
   "id": "86be4540-8afa-4413-99fa-7a276b005691",
   "metadata": {},
   "source": [
    "### Default Arguments "
   ]
  },
  {
   "cell_type": "code",
   "execution_count": 239,
   "id": "b42f285a-0452-4aa3-8cd0-483d6b13e202",
   "metadata": {
    "tags": []
   },
   "outputs": [],
   "source": [
    "def addition(number_1, number_2=100):\n",
    "    result = number_1 + number_2 \n",
    "    return result"
   ]
  },
  {
   "cell_type": "code",
   "execution_count": 240,
   "id": "22663e8e-43cc-4dcc-b44c-e855a254e5f4",
   "metadata": {
    "tags": []
   },
   "outputs": [
    {
     "data": {
      "text/plain": [
       "120"
      ]
     },
     "execution_count": 240,
     "metadata": {},
     "output_type": "execute_result"
    }
   ],
   "source": [
    "addition(20)"
   ]
  },
  {
   "cell_type": "code",
   "execution_count": 241,
   "id": "fc33d8b2-f35b-4874-9399-b748b439840d",
   "metadata": {
    "tags": []
   },
   "outputs": [
    {
     "data": {
      "text/plain": [
       "70"
      ]
     },
     "execution_count": 241,
     "metadata": {},
     "output_type": "execute_result"
    }
   ],
   "source": [
    "addition(20,50)"
   ]
  },
  {
   "cell_type": "code",
   "execution_count": 242,
   "id": "67aa9538-d0ca-4c9f-ac65-ad7f3360e44f",
   "metadata": {
    "tags": []
   },
   "outputs": [],
   "source": [
    "def team2(name, project = 'Pipes'):\n",
    "    print('The',name,'are working on the', project, 'project')"
   ]
  },
  {
   "cell_type": "code",
   "execution_count": 243,
   "id": "85068e34-e607-4c25-99b4-fed6c20c37a8",
   "metadata": {
    "tags": []
   },
   "outputs": [
    {
     "name": "stdout",
     "output_type": "stream",
     "text": [
      "The Contractors are working on the Pipes project\n"
     ]
    }
   ],
   "source": [
    "team2('Contractors')"
   ]
  },
  {
   "cell_type": "code",
   "execution_count": 251,
   "id": "3d747aff-141d-4284-8dcf-780589effbb3",
   "metadata": {
    "tags": []
   },
   "outputs": [
    {
     "name": "stdout",
     "output_type": "stream",
     "text": [
      "The Contractors are working on the Pavement project\n"
     ]
    }
   ],
   "source": [
    "team2('Contractors', project = 'Pavement')"
   ]
  },
  {
   "cell_type": "markdown",
   "id": "ba5c8809-5977-47eb-9f99-5aeaf081b43e",
   "metadata": {},
   "source": [
    "# Calculator Project "
   ]
  },
  {
   "cell_type": "code",
   "execution_count": 263,
   "id": "e107829c-f2c2-4a1b-bfb4-19e1fde5bbc1",
   "metadata": {
    "tags": []
   },
   "outputs": [
    {
     "name": "stdout",
     "output_type": "stream",
     "text": [
      "\n",
      "        Calculator v1.0 Menu\n",
      "        1. Add two numbers\n",
      "        2. Subtract two numbers \n",
      "        3. Divide two numbers \n",
      "        4. Multiple two numbers \n",
      "        5. Calculate 8% tax on value \n",
      "        6. Calculate monthly payments, given a total amount and a number of years\n",
      "        7. quit\n",
      "        \n",
      "        \n"
     ]
    },
    {
     "name": "stdin",
     "output_type": "stream",
     "text": [
      "Chose an Option from 1 - 6:  7\n"
     ]
    },
    {
     "name": "stdout",
     "output_type": "stream",
     "text": [
      "thank you. Goodbye\n"
     ]
    }
   ],
   "source": [
    "while True: \n",
    "    #print out the menu \n",
    "    print (\n",
    "        '''\n",
    "        Calculator v1.0 Menu\n",
    "        1. Add two numbers\n",
    "        2. Subtract two numbers \n",
    "        3. Divide two numbers \n",
    "        4. Multiple two numbers \n",
    "        5. Calculate 8% tax on value \n",
    "        6. Calculate monthly payments, given a total amount and a number of years\n",
    "        7. quit\n",
    "        \n",
    "        ''')\n",
    "    #print out user input \n",
    "    UserChoice = int(input('Chose an Option from 1 - 6: '))\n",
    "                           \n",
    "    # if user chooses 1 , add 2 numbers \n",
    "    if UserChoice == 1:\n",
    "            print('ADD TWO NUMBERS')\n",
    "            number_1 = float(input('First number: '))\n",
    "            number_2 = float(input('Second number: '))\n",
    "            result = number_1 + number_2\n",
    "            print('Result: ', result)\n",
    "                                   \n",
    "    #Else if user choose 2, subtract 2 numbers\n",
    "    elif UserChoice == 2:\n",
    "            print('SUBTRACT TWO NUMBERS')\n",
    "            number_1 = float(input('First number: '))\n",
    "            number_2 = float(input('Second number: '))\n",
    "            result = number_1 - number_2\n",
    "            print('Result: ', result)       \n",
    "            \n",
    "    #Dividing Two Numbers\n",
    "    elif UserChoice == 3:\n",
    "            print('DIVIDING TWO NUMBERS')\n",
    "            number_1 = float(input('First number: '))\n",
    "            number_2 = float(input('Second number: '))\n",
    "            result = number_1 / number_2\n",
    "            print('Result: ', result)       \n",
    "            \n",
    "    #Multiply two numbers \n",
    "    elif UserChoice == 4:\n",
    "            print('MULTIPLY TWO NUMBERS')\n",
    "            number_1 = float(input('First number: '))\n",
    "            number_2 = float(input('Second number: '))\n",
    "            result = number_1 * number_2\n",
    "            print('Result: ', result)       \n",
    "   \n",
    "    #Calculate 8%      \n",
    "    elif UserChoice == 5:\n",
    "            print('CALCULATING 8% TAX ON A VALUE')\n",
    "            amount = float(input('Enter Amount: '))\n",
    "            result = amount * 0.08\n",
    "            print('Result: ', result)       \n",
    "    \n",
    "    #Monthly Payment \n",
    "    elif UserChoice == 6:\n",
    "        print('CACULATING MONTHLY PAYMENTS')\n",
    "        amount = float(input('Enter total amount: '))\n",
    "        number_of_years = float(input('Enter Number of years: '))\n",
    "        payment = amount / (number_of_years * 12)\n",
    "        print('Result: ', payment)\n",
    "                                   \n",
    "    #else if user chooses 7 -> quit program \n",
    "    elif UserChoice == 7:\n",
    "        print(\"thank you. Goodbye\")\n",
    "        break\n",
    "            \n",
    "                                   \n",
    "                                   \n",
    "                                   \n",
    "                               "
   ]
  },
  {
   "cell_type": "markdown",
   "id": "d337527f-2bca-468b-bcd0-f14d5a9b3c56",
   "metadata": {},
   "source": [
    "# Time"
   ]
  },
  {
   "cell_type": "markdown",
   "id": "c97cd44f-4dde-4a04-b176-bf973f8563a0",
   "metadata": {},
   "source": [
    "### Epoch (beginning for Unix Systems)"
   ]
  },
  {
   "cell_type": "code",
   "execution_count": 278,
   "id": "aa1acb6b-4288-4a97-8c3e-71289fed225a",
   "metadata": {
    "tags": []
   },
   "outputs": [],
   "source": [
    "import time as t "
   ]
  },
  {
   "cell_type": "code",
   "execution_count": 279,
   "id": "61ed25e4-d331-43a4-b647-f8dd0348c055",
   "metadata": {
    "tags": []
   },
   "outputs": [
    {
     "name": "stdout",
     "output_type": "stream",
     "text": [
      "Seconds since epoch: 1708279949.0695114\n"
     ]
    }
   ],
   "source": [
    "### time()\n",
    "seconds = t.time()\n",
    "print('Seconds since epoch:', seconds)"
   ]
  },
  {
   "cell_type": "code",
   "execution_count": 282,
   "id": "f371dfbf-43ec-4399-91c3-78418218ad11",
   "metadata": {
    "tags": []
   },
   "outputs": [
    {
     "name": "stdout",
     "output_type": "stream",
     "text": [
      "Local time at seconds: Sun Feb 18 10:12:29 2024\n"
     ]
    }
   ],
   "source": [
    "#ctime()\n",
    "\n",
    "local_time = t.ctime(seconds)\n",
    "print('Local time at seconds:', local_time)"
   ]
  },
  {
   "cell_type": "code",
   "execution_count": 283,
   "id": "e25824b8-c46d-42ee-9191-2b8c4e675771",
   "metadata": {
    "tags": []
   },
   "outputs": [
    {
     "name": "stdout",
     "output_type": "stream",
     "text": [
      "This is printed now\n",
      "This was printed after 10 seconds\n"
     ]
    }
   ],
   "source": [
    "###sleep()\n",
    "\n",
    "print('This is printed now')\n",
    "t.sleep(10)\n",
    "print('This was printed after 10 seconds')"
   ]
  },
  {
   "cell_type": "code",
   "execution_count": 284,
   "id": "11c38dc8-ce74-4f31-89ca-ac6cb535307c",
   "metadata": {
    "tags": []
   },
   "outputs": [],
   "source": [
    "#time.struct_time CLASS"
   ]
  },
  {
   "cell_type": "code",
   "execution_count": 285,
   "id": "a9dee2d0-7bd0-4ef0-94ef-34d91f58620e",
   "metadata": {
    "tags": []
   },
   "outputs": [
    {
     "name": "stdout",
     "output_type": "stream",
     "text": [
      "time.struct_time(tm_year=2024, tm_mon=2, tm_mday=18, tm_hour=10, tm_min=12, tm_sec=29, tm_wday=6, tm_yday=49, tm_isdst=0)\n"
     ]
    }
   ],
   "source": [
    "#localtime()\n",
    "\n",
    "local_time_strct = t.localtime(1708279949.0695114)\n",
    "print(local_time_strct)"
   ]
  },
  {
   "cell_type": "code",
   "execution_count": 286,
   "id": "6a1a5b75-68c5-461d-a479-f7672e765a15",
   "metadata": {
    "tags": []
   },
   "outputs": [
    {
     "name": "stdout",
     "output_type": "stream",
     "text": [
      "12\n"
     ]
    }
   ],
   "source": [
    "print(local_time_strct.tm_min)"
   ]
  },
  {
   "cell_type": "code",
   "execution_count": 287,
   "id": "9920a1dc-01f5-40de-b13d-30c5fe8b3b66",
   "metadata": {
    "tags": []
   },
   "outputs": [
    {
     "name": "stdout",
     "output_type": "stream",
     "text": [
      "1708279949.0\n"
     ]
    }
   ],
   "source": [
    "#mktime()\n",
    "\n",
    "t_tup = (2024, 2, 18, 10, 12, 29, 6, 49, 0)\n",
    "\n",
    "seconds_since_epoch = t.mktime(t_tup)\n",
    "print(seconds_since_epoch)"
   ]
  },
  {
   "cell_type": "markdown",
   "id": "6d88c572-b364-463a-b74d-dced22a64865",
   "metadata": {},
   "source": [
    "# Calandar Module "
   ]
  },
  {
   "cell_type": "code",
   "execution_count": 288,
   "id": "9ed96a27-fbcf-41f7-ad5b-fb922eca218c",
   "metadata": {
    "tags": []
   },
   "outputs": [],
   "source": [
    "import calendar"
   ]
  },
  {
   "cell_type": "code",
   "execution_count": 290,
   "id": "be0711f2-468e-473e-bd37-7d772cf8f1db",
   "metadata": {
    "tags": []
   },
   "outputs": [
    {
     "name": "stdout",
     "output_type": "stream",
     "text": [
      "   February 2024\n",
      "Mo Tu We Th Fr Sa Su\n",
      "          1  2  3  4\n",
      " 5  6  7  8  9 10 11\n",
      "12 13 14 15 16 17 18\n",
      "19 20 21 22 23 24 25\n",
      "26 27 28 29\n",
      "\n"
     ]
    }
   ],
   "source": [
    "yy = 2024\n",
    "mm = 2\n",
    "\n",
    "print(calendar.month(yy,mm))"
   ]
  },
  {
   "cell_type": "code",
   "execution_count": 292,
   "id": "996bbdf9-77c4-480d-a28b-dd7585c50452",
   "metadata": {
    "tags": []
   },
   "outputs": [
    {
     "name": "stdout",
     "output_type": "stream",
     "text": [
      "6\n",
      "0\n",
      "1\n",
      "2\n",
      "3\n",
      "4\n",
      "5\n"
     ]
    }
   ],
   "source": [
    "# iterweekdays()\n",
    "#0 - Monday\n",
    "#1 - Tuesdays \n",
    "#2 - Wednesday\n",
    "#3 - Thursday \n",
    "#4 - Friday \n",
    "#5 - Saturday \n",
    "#6 - Sunday \n",
    "\n",
    "cal = calendar.Calendar(firstweekday=6)\n",
    "\n",
    "for x in cal.iterweekdays():\n",
    "    print(x)\n",
    "\n"
   ]
  },
  {
   "cell_type": "code",
   "execution_count": 293,
   "id": "ae319df8-8c47-4b03-ad01-332e361cf930",
   "metadata": {
    "tags": []
   },
   "outputs": [
    {
     "name": "stdout",
     "output_type": "stream",
     "text": [
      "   February 2024\n",
      "Mo Tu We Th Fr Sa Su\n",
      "          1  2  3  4\n",
      " 5  6  7  8  9 10 11\n",
      "12 13 14 15 16 17 18\n",
      "19 20 21 22 23 24 25\n",
      "26 27 28 29\n",
      "\n"
     ]
    }
   ],
   "source": [
    "#itermonthdates()\n",
    "yy = 2024 \n",
    "mm = 2\n",
    "\n",
    "print(calendar.month(yy, mm))"
   ]
  },
  {
   "cell_type": "code",
   "execution_count": 294,
   "id": "fd4f43d6-4383-40b1-8442-ff4b89480c1b",
   "metadata": {
    "tags": []
   },
   "outputs": [
    {
     "name": "stdout",
     "output_type": "stream",
     "text": [
      "time.struct_time(tm_year=2024, tm_mon=2, tm_mday=18, tm_hour=10, tm_min=29, tm_sec=19, tm_wday=6, tm_yday=49, tm_isdst=-1)\n"
     ]
    }
   ],
   "source": [
    "#time tuple \n",
    "\n",
    "import datetime \n",
    "\n",
    "now_obj = datetime.datetime.today()\n",
    "\n",
    "obj_timetup = now_obj.timetuple()\n",
    "\n",
    "print(obj_timetup)\n"
   ]
  },
  {
   "cell_type": "code",
   "execution_count": 295,
   "id": "49bd39d5-4fca-44da-af1b-e962f45c8569",
   "metadata": {
    "tags": []
   },
   "outputs": [
    {
     "name": "stdout",
     "output_type": "stream",
     "text": [
      "Year: 2024\n",
      "Month: 2\n",
      "Day: 18\n"
     ]
    }
   ],
   "source": [
    "print('Year:', now_obj.timetuple()[0])\n",
    "print('Month:', now_obj.timetuple()[1])\n",
    "print('Day:', now_obj.timetuple()[2])"
   ]
  },
  {
   "cell_type": "code",
   "execution_count": 296,
   "id": "e2b39547-1d25-4959-acea-374ac2b3d953",
   "metadata": {
    "tags": []
   },
   "outputs": [
    {
     "name": "stdout",
     "output_type": "stream",
     "text": [
      "Current time: 10:32:51\n"
     ]
    }
   ],
   "source": [
    "## getting current time \n",
    "\n",
    "from datetime import datetime\n",
    "\n",
    "now = datetime.now()\n",
    "\n",
    "current_time = now.strftime(\"%H:%M:%S\")\n",
    "print(\"Current time:\", current_time)"
   ]
  },
  {
   "cell_type": "code",
   "execution_count": 297,
   "id": "c44b3a30-f07b-421f-a591-c690fefec340",
   "metadata": {
    "tags": []
   },
   "outputs": [
    {
     "name": "stdout",
     "output_type": "stream",
     "text": [
      "Year: 2024\n"
     ]
    }
   ],
   "source": [
    "## Getting formatted time \n",
    "\n",
    "year = now.strftime(\"%Y\")\n",
    "print('Year:', year)"
   ]
  },
  {
   "cell_type": "code",
   "execution_count": 298,
   "id": "8790edb0-1ee2-4029-a0cb-4f594961bcb9",
   "metadata": {
    "tags": []
   },
   "outputs": [
    {
     "name": "stdout",
     "output_type": "stream",
     "text": [
      "Month: 32\n"
     ]
    }
   ],
   "source": [
    "month = now.strftime(\"%M\")\n",
    "print('Month:', month)"
   ]
  },
  {
   "cell_type": "code",
   "execution_count": 299,
   "id": "81e5f304-3ffb-4bf1-b8fb-25da40c46970",
   "metadata": {
    "tags": []
   },
   "outputs": [
    {
     "name": "stdout",
     "output_type": "stream",
     "text": [
      "yay we printed\n"
     ]
    }
   ],
   "source": [
    "# print to the screen \n",
    "\n",
    "print(\"yay we printed\")"
   ]
  },
  {
   "cell_type": "code",
   "execution_count": 300,
   "id": "f4cd94f0-9386-4c13-aeb1-d59a9ca7b980",
   "metadata": {
    "tags": []
   },
   "outputs": [
    {
     "name": "stdin",
     "output_type": "stream",
     "text": [
      "What is your query dogs\n"
     ]
    }
   ],
   "source": [
    "user_query = input('What is your query')"
   ]
  },
  {
   "cell_type": "markdown",
   "id": "15c5e37d-abee-4f2e-819a-c09cd580ac17",
   "metadata": {},
   "source": [
    "## Reading and writing Files"
   ]
  },
  {
   "cell_type": "code",
   "execution_count": 301,
   "id": "9acb6afe-4809-46a9-8b1c-3464d1dc7a6f",
   "metadata": {
    "tags": []
   },
   "outputs": [
    {
     "data": {
      "text/plain": [
       "<function TextIOWrapper.close()>"
      ]
     },
     "execution_count": 301,
     "metadata": {},
     "output_type": "execute_result"
    }
   ],
   "source": [
    "file = open('Python_Fondations.txt', 'w')\n",
    "file.write('this is the a tiring course')\n",
    "file.close "
   ]
  },
  {
   "cell_type": "markdown",
   "id": "c1bba6a2-a8a0-4424-ab17-8317b046a18d",
   "metadata": {},
   "source": [
    "# Classes and Objects"
   ]
  },
  {
   "cell_type": "code",
   "execution_count": 302,
   "id": "0fb945d2-6edb-46f6-9192-2ac0a302c24c",
   "metadata": {
    "tags": []
   },
   "outputs": [
    {
     "name": "stdout",
     "output_type": "stream",
     "text": [
      "4\n"
     ]
    }
   ],
   "source": [
    "class Car:\n",
    "    number_of_wheels = 4\n",
    "    \n",
    "ford = Car()\n",
    "print(ford.number_of_wheels)"
   ]
  },
  {
   "cell_type": "code",
   "execution_count": 305,
   "id": "9ab85c9d-d95c-4d6f-b6ac-d652ac868c3b",
   "metadata": {
    "tags": []
   },
   "outputs": [],
   "source": [
    "# the _init_() function\n",
    "\n",
    "class Car:\n",
    "    def __init__(self, make, model):\n",
    "        self.make = make \n",
    "        self.model = model \n",
    "\n",
    "brand_1 = Car('Ford', 'Edge')\n",
    "brand_2 = Car('Benz', 'C-300')\n",
    "brand_3 = Car('Toyota', 'Corolla')\n",
    "\n"
   ]
  },
  {
   "cell_type": "code",
   "execution_count": 306,
   "id": "222827c1-8c72-45e3-af81-e2db6e1c5316",
   "metadata": {
    "tags": []
   },
   "outputs": [
    {
     "name": "stdout",
     "output_type": "stream",
     "text": [
      "Ford\n",
      "Edge\n",
      "Benz\n",
      "C-300\n"
     ]
    }
   ],
   "source": [
    "print(brand_1.make)\n",
    "print(brand_1.model)\n",
    "print(brand_2.make)\n",
    "print(brand_2.model)"
   ]
  },
  {
   "cell_type": "markdown",
   "id": "b2cd2bf1-9989-492d-bac4-7266ba52f3a0",
   "metadata": {},
   "source": [
    "### Object Methods"
   ]
  },
  {
   "cell_type": "code",
   "execution_count": 309,
   "id": "cd93d9e7-4ba4-4a8e-b147-da530b56cf86",
   "metadata": {
    "tags": []
   },
   "outputs": [],
   "source": [
    "class Car:\n",
    "    def __init__(self, make, model, max_speed):\n",
    "        self.make = make \n",
    "        self.model = model \n",
    "        self.max_speed = max_speed\n",
    "        \n",
    "    def drive(self):\n",
    "        print('I am a' +self.make+' '+self.model+' '+' and i drive at a max speed of '+self.max_speed)\n",
    "        \n",
    "brand_1 = Car('Ford', 'Edge', '200miles/hr')\n",
    "brand_2 = Car('Benz', 'C-300','260miles/hr')\n",
    "brand_3 = Car('Toyota', 'Corolla', '180miles/hr')"
   ]
  },
  {
   "cell_type": "code",
   "execution_count": 310,
   "id": "81b6e154-132f-4fc9-b6dc-0616f98a1520",
   "metadata": {
    "tags": []
   },
   "outputs": [
    {
     "name": "stdout",
     "output_type": "stream",
     "text": [
      "I am aFord Edge  and i drive at a max speed of 200miles/hr\n"
     ]
    }
   ],
   "source": [
    "brand_1.drive()"
   ]
  },
  {
   "cell_type": "code",
   "execution_count": 311,
   "id": "1879b62c-7604-4288-9b7d-062516099f96",
   "metadata": {
    "tags": []
   },
   "outputs": [
    {
     "name": "stdout",
     "output_type": "stream",
     "text": [
      "I am aBenz C-300  and i drive at a max speed of 260miles/hr\n"
     ]
    }
   ],
   "source": [
    "brand_2.drive()"
   ]
  },
  {
   "cell_type": "markdown",
   "id": "d5ac8d4d-8d1b-4732-bcc6-c5f5ea8ff02f",
   "metadata": {},
   "source": [
    "# Garbage Collections "
   ]
  },
  {
   "cell_type": "code",
   "execution_count": 312,
   "id": "46ce7f16-2f58-45a7-8ef8-9ca9fa282d56",
   "metadata": {
    "tags": []
   },
   "outputs": [],
   "source": [
    "boys = ['Tom', 'Harry', 'Will']\n",
    "\n",
    "girls = ['Anna', 'Becky', 'Vanessa']"
   ]
  },
  {
   "cell_type": "code",
   "execution_count": 313,
   "id": "0f6ea2f4-316d-4c9e-a0bd-09c1e0b0c6cb",
   "metadata": {
    "tags": []
   },
   "outputs": [
    {
     "name": "stdout",
     "output_type": "stream",
     "text": [
      "['Tom', 'Harry', 'Will']\n"
     ]
    }
   ],
   "source": [
    "print(boys)"
   ]
  },
  {
   "cell_type": "code",
   "execution_count": 314,
   "id": "f8e56078-ca6b-47ca-bc59-675ff50e9c6c",
   "metadata": {
    "tags": []
   },
   "outputs": [
    {
     "name": "stdout",
     "output_type": "stream",
     "text": [
      "Tom is married to Anna\n",
      "Harry is married to Becky\n",
      "Will is married to Vanessa\n"
     ]
    }
   ],
   "source": [
    "for i,j in zip(boys,girls):\n",
    "    print(i,'is married to',j)"
   ]
  },
  {
   "cell_type": "code",
   "execution_count": 315,
   "id": "57f1a861-7c32-4fde-970d-fa83c0d91ba5",
   "metadata": {
    "tags": []
   },
   "outputs": [],
   "source": [
    "boys = ['George', 'Sam', 'Jim']"
   ]
  },
  {
   "cell_type": "code",
   "execution_count": 316,
   "id": "0c396692-3ee5-40fd-8726-e9e994e6d2b2",
   "metadata": {
    "tags": []
   },
   "outputs": [
    {
     "name": "stdout",
     "output_type": "stream",
     "text": [
      "['George', 'Sam', 'Jim']\n"
     ]
    }
   ],
   "source": [
    "print(boys)"
   ]
  },
  {
   "cell_type": "code",
   "execution_count": 317,
   "id": "03e2ce62-ddbc-4e85-90b4-507d9cfbde93",
   "metadata": {
    "tags": []
   },
   "outputs": [
    {
     "data": {
      "text/plain": [
       "2"
      ]
     },
     "execution_count": 317,
     "metadata": {},
     "output_type": "execute_result"
    }
   ],
   "source": [
    "import sys \n",
    "sys.getrefcount(boys)"
   ]
  },
  {
   "cell_type": "code",
   "execution_count": 318,
   "id": "51e26fa4-71ea-4993-866d-f61921baa2e6",
   "metadata": {
    "tags": []
   },
   "outputs": [],
   "source": [
    "p = 1 "
   ]
  },
  {
   "cell_type": "code",
   "execution_count": 319,
   "id": "cde29424-dc40-4114-98b4-53458aaed61b",
   "metadata": {
    "tags": []
   },
   "outputs": [
    {
     "name": "stdout",
     "output_type": "stream",
     "text": [
      "1\n"
     ]
    }
   ],
   "source": [
    "print(p)"
   ]
  },
  {
   "cell_type": "markdown",
   "id": "5baab9a9-fbca-4810-95bd-a18448dafb21",
   "metadata": {},
   "source": [
    "### Inheritance "
   ]
  },
  {
   "cell_type": "code",
   "execution_count": 320,
   "id": "c5d25d3f-2669-4fc6-a09f-634f47d97fac",
   "metadata": {
    "tags": []
   },
   "outputs": [],
   "source": [
    "class Person: \n",
    "    def __init__(self, first_name, last_name):\n",
    "        self.first_name = first_name \n",
    "        self.last_name = last_name \n",
    "        \n",
    "    def print_name(self):\n",
    "        print('My name is', self.first_name, self.last_name)"
   ]
  },
  {
   "cell_type": "code",
   "execution_count": 321,
   "id": "6130a334-500e-4d4f-9cac-a154dabc9a99",
   "metadata": {
    "tags": []
   },
   "outputs": [],
   "source": [
    "sam = Person('Sam', 'Thompson')"
   ]
  },
  {
   "cell_type": "code",
   "execution_count": 322,
   "id": "6233527e-1fcf-4e1d-aaf7-3fb3cae56e11",
   "metadata": {
    "tags": []
   },
   "outputs": [
    {
     "name": "stdout",
     "output_type": "stream",
     "text": [
      "My name is Sam Thompson\n"
     ]
    }
   ],
   "source": [
    "sam.print_name()"
   ]
  },
  {
   "cell_type": "code",
   "execution_count": 324,
   "id": "9240a810-4ee7-4b74-835a-f21c8104cbf8",
   "metadata": {
    "tags": []
   },
   "outputs": [],
   "source": [
    "class Student(Person):\n",
    "    def study(self):\n",
    "        print('I am a math student')"
   ]
  },
  {
   "cell_type": "code",
   "execution_count": 325,
   "id": "d78d5567-8b29-460b-aba1-282694ad9d7c",
   "metadata": {
    "tags": []
   },
   "outputs": [],
   "source": [
    "student1 = Student('Boris', 'Williams')"
   ]
  },
  {
   "cell_type": "code",
   "execution_count": 326,
   "id": "358573e6-a106-47f8-b824-cfc07bf12f23",
   "metadata": {
    "tags": []
   },
   "outputs": [
    {
     "name": "stdout",
     "output_type": "stream",
     "text": [
      "My name is Boris Williams\n"
     ]
    }
   ],
   "source": [
    "student1.print_name()"
   ]
  },
  {
   "cell_type": "code",
   "execution_count": 327,
   "id": "1d173844-6580-4a65-9ff3-1028f275169f",
   "metadata": {
    "tags": []
   },
   "outputs": [
    {
     "name": "stdout",
     "output_type": "stream",
     "text": [
      "I am a math student\n"
     ]
    }
   ],
   "source": [
    "student1.study()"
   ]
  },
  {
   "cell_type": "code",
   "execution_count": 329,
   "id": "c5222e58-f2fc-4938-a65f-e2a56ad85caa",
   "metadata": {
    "tags": []
   },
   "outputs": [],
   "source": [
    "class Automobile:\n",
    "    def __init__(self, make, model):\n",
    "        self.make = make \n",
    "        self.model = model \n",
    "        \n",
    "    def accelerate(self):\n",
    "        print('Move forward')\n",
    "        \n",
    "    def brake(self):\n",
    "        print('Stop')\n",
    "        \n",
    "class Sedan(Automobile):\n",
    "    pass\n",
    "\n",
    "class SUV(Automobile):\n",
    "    pass"
   ]
  },
  {
   "cell_type": "code",
   "execution_count": 330,
   "id": "53598d51-2782-4917-846c-3a514290f2b9",
   "metadata": {
    "tags": []
   },
   "outputs": [
    {
     "name": "stdout",
     "output_type": "stream",
     "text": [
      "Move forward\n"
     ]
    }
   ],
   "source": [
    "vechile = Sedan('Ford', 'Escape')\n",
    "vechile.accelerate()"
   ]
  },
  {
   "cell_type": "markdown",
   "id": "ee4c4bb8-e1b5-45d3-8963-2d9b183953f1",
   "metadata": {},
   "source": [
    "# Override "
   ]
  },
  {
   "cell_type": "code",
   "execution_count": 331,
   "id": "35db5a39-7171-4a67-b35d-e8e2f7453ac1",
   "metadata": {
    "tags": []
   },
   "outputs": [],
   "source": [
    "class Person: \n",
    "    def __init__(self, first_name, last_name):\n",
    "        self.first_name = first_name \n",
    "        self.last_name = last_name \n",
    "        \n",
    "    def print_name(self):\n",
    "        print('My name is', self.first_name, self.last_name)"
   ]
  },
  {
   "cell_type": "code",
   "execution_count": 332,
   "id": "99d712ba-cb0d-40a0-a2e4-7a22ef8bdb03",
   "metadata": {
    "tags": []
   },
   "outputs": [],
   "source": [
    "class Teacher(Person):\n",
    "     def __init__(self, first_name, last_name):\n",
    "            pass"
   ]
  },
  {
   "cell_type": "code",
   "execution_count": 333,
   "id": "8b2ecbdf-98ef-477d-a054-6ebb9605d0b0",
   "metadata": {
    "tags": []
   },
   "outputs": [],
   "source": [
    "t1 = Teacher('Sam', 'Johnson')"
   ]
  },
  {
   "cell_type": "code",
   "execution_count": 334,
   "id": "99850f36-cbe4-4e67-82a8-abc77dbc4062",
   "metadata": {
    "tags": []
   },
   "outputs": [
    {
     "ename": "AttributeError",
     "evalue": "'Teacher' object has no attribute 'first_name'",
     "output_type": "error",
     "traceback": [
      "\u001b[1;31m---------------------------------------------------------------------------\u001b[0m",
      "\u001b[1;31mAttributeError\u001b[0m                            Traceback (most recent call last)",
      "Cell \u001b[1;32mIn[334], line 1\u001b[0m\n\u001b[1;32m----> 1\u001b[0m t1\u001b[38;5;241m.\u001b[39mprint_name()\n",
      "Cell \u001b[1;32mIn[331], line 7\u001b[0m, in \u001b[0;36mPerson.print_name\u001b[1;34m(self)\u001b[0m\n\u001b[0;32m      6\u001b[0m \u001b[38;5;28;01mdef\u001b[39;00m \u001b[38;5;21mprint_name\u001b[39m(\u001b[38;5;28mself\u001b[39m):\n\u001b[1;32m----> 7\u001b[0m     \u001b[38;5;28mprint\u001b[39m(\u001b[38;5;124m'\u001b[39m\u001b[38;5;124mMy name is\u001b[39m\u001b[38;5;124m'\u001b[39m, \u001b[38;5;28mself\u001b[39m\u001b[38;5;241m.\u001b[39mfirst_name, \u001b[38;5;28mself\u001b[39m\u001b[38;5;241m.\u001b[39mlast_name)\n",
      "\u001b[1;31mAttributeError\u001b[0m: 'Teacher' object has no attribute 'first_name'"
     ]
    }
   ],
   "source": [
    "t1.print_name()"
   ]
  },
  {
   "cell_type": "code",
   "execution_count": 335,
   "id": "7bdd4ef2-3f1f-4ffe-b063-1b025c8f9d86",
   "metadata": {
    "tags": []
   },
   "outputs": [],
   "source": [
    "class Person: \n",
    "    def __init__(self, first_name, last_name):\n",
    "        self.first_name = first_name \n",
    "        self.last_name = last_name \n",
    "        \n",
    "    def print_name(self):\n",
    "        print('My name is', self.first_name, self.last_name)"
   ]
  },
  {
   "cell_type": "code",
   "execution_count": 336,
   "id": "3de9d8b6-8991-4bb9-bd21-3a860350ebf1",
   "metadata": {
    "tags": []
   },
   "outputs": [],
   "source": [
    "class Teacher(Person):\n",
    "     def __init__(self, first_name, last_name):\n",
    "            Person.__init__(self,first_name, last_name)"
   ]
  },
  {
   "cell_type": "code",
   "execution_count": 337,
   "id": "dad6d0a7-ecf2-421a-a866-247870cef1b0",
   "metadata": {
    "tags": []
   },
   "outputs": [
    {
     "name": "stdout",
     "output_type": "stream",
     "text": [
      "My name is Sam Johnson\n"
     ]
    }
   ],
   "source": [
    "t2 = Teacher('Sam', 'Johnson')\n",
    "t2.print_name()"
   ]
  },
  {
   "cell_type": "code",
   "execution_count": 338,
   "id": "86a45597-757f-4616-931c-f83bdee3265f",
   "metadata": {
    "tags": []
   },
   "outputs": [],
   "source": [
    "class Teacher(Person):\n",
    "    def __init__(self, first_name, last_name):\n",
    "        super().__init__(first_name, last_name)"
   ]
  },
  {
   "cell_type": "code",
   "execution_count": 339,
   "id": "50311d4c-e306-4393-9af1-b8167ca37770",
   "metadata": {
    "tags": []
   },
   "outputs": [
    {
     "name": "stdout",
     "output_type": "stream",
     "text": [
      "My name is Sam Johnson\n"
     ]
    }
   ],
   "source": [
    "t2 = Teacher('Sam', 'Johnson')\n",
    "t2.print_name()"
   ]
  },
  {
   "cell_type": "code",
   "execution_count": 342,
   "id": "fe0713f0-5edb-4a6e-84c8-9e8c803b9734",
   "metadata": {
    "tags": []
   },
   "outputs": [],
   "source": [
    "class Teacher(Person):\n",
    "    def __init__(self, first_name, last_name, subject):\n",
    "        super().__init__(first_name, last_name)\n",
    "        self.subject = subject \n",
    "        \n",
    "    def course(self):\n",
    "        print('I teach', self.subject)"
   ]
  },
  {
   "cell_type": "code",
   "execution_count": 343,
   "id": "7d768c16-2ea5-4fb2-b3bb-fe3f78b4bb43",
   "metadata": {
    "tags": []
   },
   "outputs": [],
   "source": [
    "t3 = Teacher('Sam', 'Johnson', 'Biology')"
   ]
  },
  {
   "cell_type": "code",
   "execution_count": 344,
   "id": "418194ac-e733-47d1-9dd3-64e6731e9418",
   "metadata": {
    "tags": []
   },
   "outputs": [
    {
     "name": "stdout",
     "output_type": "stream",
     "text": [
      "I teach Biology\n"
     ]
    }
   ],
   "source": [
    "t3.course()"
   ]
  },
  {
   "cell_type": "code",
   "execution_count": 345,
   "id": "d19d75e8-6e05-4f2c-aff5-dbaeff981c4a",
   "metadata": {
    "tags": []
   },
   "outputs": [
    {
     "name": "stdout",
     "output_type": "stream",
     "text": [
      "My name is Sam Johnson\n"
     ]
    }
   ],
   "source": [
    "t3.print_name()"
   ]
  },
  {
   "cell_type": "code",
   "execution_count": 347,
   "id": "2f6f7d19-81c0-4116-84fc-beb0bbb5d14a",
   "metadata": {
    "tags": []
   },
   "outputs": [],
   "source": [
    "class Athelte(Person):\n",
    "    def __init__(self, first_name, last_name, sport):\n",
    "        super().__init__(first_name, last_name)\n",
    "        self.sport = sport\n",
    "        \n",
    "    def play(self):\n",
    "        print('I play', self.sport)"
   ]
  },
  {
   "cell_type": "code",
   "execution_count": 349,
   "id": "4356f72c-60a0-446c-8fb6-64b05573a98a",
   "metadata": {
    "tags": []
   },
   "outputs": [],
   "source": [
    "t4 = Athelte('Micheal', 'Jordan', 'Basketball')"
   ]
  },
  {
   "cell_type": "code",
   "execution_count": 350,
   "id": "e51d2216-9c33-4a2b-bcb0-b3061a3cd4d4",
   "metadata": {
    "tags": []
   },
   "outputs": [
    {
     "name": "stdout",
     "output_type": "stream",
     "text": [
      "I play Basketball\n",
      "My name is Micheal Jordan\n"
     ]
    }
   ],
   "source": [
    "t4.play()\n",
    "t4.print_name()"
   ]
  },
  {
   "cell_type": "code",
   "execution_count": 362,
   "id": "e8ab7663-1ce9-48bf-8e57-08e2da50f1a7",
   "metadata": {
    "tags": []
   },
   "outputs": [],
   "source": [
    "class Father(Athelte):\n",
    "    def __init__(self, first_name, last_name, sport, child):\n",
    "        super().__init__(first_name, last_name, sport)\n",
    "        self.child = child\n",
    "\n",
    "    def children(self):\n",
    "        print('I have', self.child, 'children')"
   ]
  },
  {
   "cell_type": "code",
   "execution_count": 363,
   "id": "c6d62c4d-8c77-44d9-8fd9-2446307a599b",
   "metadata": {
    "tags": []
   },
   "outputs": [],
   "source": [
    "t5 = Father('Will', 'Thomas', 'Tennis', '2')"
   ]
  },
  {
   "cell_type": "code",
   "execution_count": 365,
   "id": "6068c977-158e-4e5f-8efd-da507928ecbb",
   "metadata": {
    "tags": []
   },
   "outputs": [
    {
     "name": "stdout",
     "output_type": "stream",
     "text": [
      "My name is Will Thomas\n",
      "I play Tennis\n",
      "I have 2 children\n"
     ]
    }
   ],
   "source": [
    "t5.print_name()\n",
    "t5.play()\n",
    "t5.children()"
   ]
  },
  {
   "cell_type": "markdown",
   "id": "6b5c6114-74dc-48fd-9235-4bbd25f16264",
   "metadata": {},
   "source": [
    "## Sets"
   ]
  },
  {
   "cell_type": "code",
   "execution_count": 366,
   "id": "83a9852b-edaa-4a09-b54a-d8c87879c469",
   "metadata": {
    "tags": []
   },
   "outputs": [],
   "source": [
    "my_set = {'apple', 'banana', 'orange', 'kiwi'}"
   ]
  },
  {
   "cell_type": "code",
   "execution_count": 367,
   "id": "8cf5c057-c89d-4e2d-8fb7-479e6af92103",
   "metadata": {
    "tags": []
   },
   "outputs": [
    {
     "data": {
      "text/plain": [
       "{'apple', 'banana', 'kiwi', 'orange'}"
      ]
     },
     "execution_count": 367,
     "metadata": {},
     "output_type": "execute_result"
    }
   ],
   "source": [
    "my_set"
   ]
  },
  {
   "cell_type": "code",
   "execution_count": 368,
   "id": "f2ab0f93-8d55-4f79-b9c9-1afdacb081fc",
   "metadata": {
    "tags": []
   },
   "outputs": [
    {
     "data": {
      "text/plain": [
       "{'apple', 'banana', 'kiwi', 'orange'}"
      ]
     },
     "execution_count": 368,
     "metadata": {},
     "output_type": "execute_result"
    }
   ],
   "source": [
    "my_set = {'apple', 'banana', 'orange', 'kiwi', 'kiwi', 'apple'}\n",
    "\n",
    "my_set"
   ]
  },
  {
   "cell_type": "code",
   "execution_count": 369,
   "id": "ae10614d-4b3c-4af5-9a8f-d274d45d0d98",
   "metadata": {
    "tags": []
   },
   "outputs": [
    {
     "data": {
      "text/plain": [
       "{'apple', 'banana', 'clementines', 'grapes', 'kiwi', 'orange'}"
      ]
     },
     "execution_count": 369,
     "metadata": {},
     "output_type": "execute_result"
    }
   ],
   "source": [
    "#add()\n",
    "\n",
    "my_set.add('grapes')\n",
    "my_set.add('clementines')\n",
    "\n",
    "my_set\n"
   ]
  },
  {
   "cell_type": "code",
   "execution_count": 370,
   "id": "a0c517d0-b4a5-4caf-bf06-09f5b39343cf",
   "metadata": {
    "tags": []
   },
   "outputs": [
    {
     "data": {
      "text/plain": [
       "{'apple', 'clementines', 'grapes', 'kiwi', 'orange'}"
      ]
     },
     "execution_count": 370,
     "metadata": {},
     "output_type": "execute_result"
    }
   ],
   "source": [
    "#Remove()\n",
    "\n",
    "my_set.remove('banana')\n",
    "\n",
    "my_set"
   ]
  },
  {
   "cell_type": "code",
   "execution_count": 371,
   "id": "85bd49de-d4b4-4660-b8e3-531bcbae2cb1",
   "metadata": {
    "tags": []
   },
   "outputs": [
    {
     "data": {
      "text/plain": [
       "set"
      ]
     },
     "execution_count": 371,
     "metadata": {},
     "output_type": "execute_result"
    }
   ],
   "source": [
    "type(my_set)"
   ]
  },
  {
   "cell_type": "code",
   "execution_count": 372,
   "id": "2b231bd5-198a-4637-b47a-c640c304fe0a",
   "metadata": {
    "tags": []
   },
   "outputs": [],
   "source": [
    "# set constructor \n",
    "#list, dicitonaries, tuples, set"
   ]
  },
  {
   "cell_type": "code",
   "execution_count": 373,
   "id": "219aa9bf-5d70-407b-8d9b-13f74ab30c9d",
   "metadata": {
    "tags": []
   },
   "outputs": [],
   "source": [
    "list_1 = [1,2,4,5,7,86,3,2]"
   ]
  },
  {
   "cell_type": "code",
   "execution_count": 374,
   "id": "9d41f4a6-620e-49fa-b553-7b3e92c9556c",
   "metadata": {
    "tags": []
   },
   "outputs": [],
   "source": [
    "list_2_set = set(list_1)"
   ]
  },
  {
   "cell_type": "code",
   "execution_count": 375,
   "id": "11625781-05cb-4aa1-821b-f91d004a12b3",
   "metadata": {
    "tags": []
   },
   "outputs": [
    {
     "data": {
      "text/plain": [
       "set"
      ]
     },
     "execution_count": 375,
     "metadata": {},
     "output_type": "execute_result"
    }
   ],
   "source": [
    "type(list_2_set)"
   ]
  },
  {
   "cell_type": "code",
   "execution_count": 376,
   "id": "0a6cc668-5beb-4861-b78f-bef95ac2c727",
   "metadata": {
    "tags": []
   },
   "outputs": [
    {
     "data": {
      "text/plain": [
       "{1, 2, 3, 4, 5, 7, 86}"
      ]
     },
     "execution_count": 376,
     "metadata": {},
     "output_type": "execute_result"
    }
   ],
   "source": [
    "list_2_set"
   ]
  },
  {
   "cell_type": "code",
   "execution_count": 377,
   "id": "e7189378-5e32-4d72-9880-d9226777dc12",
   "metadata": {
    "tags": []
   },
   "outputs": [],
   "source": [
    "tuple_1 = ('Fred', 'Mary', 'Ben', 'Ben')"
   ]
  },
  {
   "cell_type": "code",
   "execution_count": 378,
   "id": "faa2465a-eb59-437e-b882-3832124c4a4a",
   "metadata": {
    "tags": []
   },
   "outputs": [],
   "source": [
    "tuple_2_set = set(tuple_1)"
   ]
  },
  {
   "cell_type": "code",
   "execution_count": 379,
   "id": "e127f4ff-1549-4e6e-a5dc-af2ba5085df1",
   "metadata": {
    "tags": []
   },
   "outputs": [
    {
     "data": {
      "text/plain": [
       "{'Ben', 'Fred', 'Mary'}"
      ]
     },
     "execution_count": 379,
     "metadata": {},
     "output_type": "execute_result"
    }
   ],
   "source": [
    "tuple_2_set"
   ]
  },
  {
   "cell_type": "markdown",
   "id": "3f1da4ee-a587-4c10-8588-56375ed824f2",
   "metadata": {},
   "source": [
    "## Range Functions"
   ]
  },
  {
   "cell_type": "code",
   "execution_count": 380,
   "id": "f2471d5d-a063-4af6-b3a5-7250850180fc",
   "metadata": {
    "tags": []
   },
   "outputs": [],
   "source": [
    "# range(start, stop, step)"
   ]
  },
  {
   "cell_type": "code",
   "execution_count": 381,
   "id": "9c4e552b-6ef1-4edb-8d90-2e180ff1576c",
   "metadata": {
    "tags": []
   },
   "outputs": [
    {
     "data": {
      "text/plain": [
       "range(0, 5)"
      ]
     },
     "execution_count": 381,
     "metadata": {},
     "output_type": "execute_result"
    }
   ],
   "source": [
    "range(5)"
   ]
  },
  {
   "cell_type": "code",
   "execution_count": 382,
   "id": "3aa8b8f7-2411-41de-ba8a-efe40052c8e4",
   "metadata": {
    "tags": []
   },
   "outputs": [
    {
     "name": "stdout",
     "output_type": "stream",
     "text": [
      "0\n",
      "1\n",
      "2\n",
      "3\n",
      "4\n",
      "5\n",
      "6\n",
      "7\n",
      "8\n",
      "9\n"
     ]
    }
   ],
   "source": [
    "for i in range(10):\n",
    "    print(i)"
   ]
  },
  {
   "cell_type": "code",
   "execution_count": 383,
   "id": "56b39b6a-48c6-4a05-a163-77830af080eb",
   "metadata": {
    "tags": []
   },
   "outputs": [
    {
     "name": "stdout",
     "output_type": "stream",
     "text": [
      "4\n",
      "5\n",
      "6\n",
      "7\n",
      "8\n",
      "9\n"
     ]
    }
   ],
   "source": [
    "for i in range(4,10):\n",
    "    print(i)"
   ]
  },
  {
   "cell_type": "code",
   "execution_count": 384,
   "id": "50952ccb-1fa6-47e1-8e6b-644f27cda3ef",
   "metadata": {
    "tags": []
   },
   "outputs": [
    {
     "name": "stdout",
     "output_type": "stream",
     "text": [
      "4\n",
      "6\n",
      "8\n"
     ]
    }
   ],
   "source": [
    "for i in range(4,10,2):\n",
    "    print(i)"
   ]
  },
  {
   "cell_type": "markdown",
   "id": "8e384621-9100-4511-a080-4bb69412ba44",
   "metadata": {},
   "source": [
    "# Python GUI (Graphical User Interface)"
   ]
  },
  {
   "cell_type": "code",
   "execution_count": 385,
   "id": "ad2d0017-be30-4171-a190-ba8fb564d3e4",
   "metadata": {
    "tags": []
   },
   "outputs": [],
   "source": [
    "import tkinter as tk \n",
    "from tkinter import *"
   ]
  },
  {
   "cell_type": "code",
   "execution_count": 399,
   "id": "ec018e61-cbb7-4f57-88ff-a848ade2e430",
   "metadata": {
    "tags": []
   },
   "outputs": [],
   "source": [
    "# Creating a window with tkiner\n",
    "import tkinter as tk\n",
    "\n",
    "window = tk.Tk()\n",
    "\n",
    "def click():\n",
    "    entered_text = textentry.get()  #collect text from entry box\n",
    "\n",
    "#Adding a title to the window\n",
    "window.title('A simple login window')\n",
    "\n",
    "# Creating Labels\n",
    "label_1 = tk.Label(window, text=\"enter username\", bg='black', fg='white', font='none 12 bold')\n",
    "label_1.grid(row=0, column=0, sticky=tk.W)  # sticky is east or west\n",
    "\n",
    "# Creating text entry box\n",
    "textentry = tk.Entry(window, width=20, bg='white')\n",
    "textentry.grid(row=1, column=0, sticky=tk.W)\n",
    "\n",
    "# Creating password Label\n",
    "label_2 = tk.Label(window, text=\"enter password\", bg='black', fg='white', font='none 12 bold')\n",
    "label_2.grid(row=3, column=0, sticky=tk.W)\n",
    "\n",
    "# Creating text entry box for Password\n",
    "pwd_entry = tk.Entry(window, width=20, bg='white', show='*')  # 'show' option to hide password\n",
    "pwd_entry.grid(row=4, column=0, sticky=tk.W)\n",
    "\n",
    "#Add Submit Button \n",
    "button= Button(window, text='Submit', width=7, command=click)\n",
    "button.grid(row=6, column=0, sticky=W)\n",
    "\n",
    "window.mainloop()"
   ]
  },
  {
   "cell_type": "code",
   "execution_count": null,
   "id": "e2e32ae8-aead-4bee-9319-32d0da480d76",
   "metadata": {},
   "outputs": [],
   "source": []
  },
  {
   "cell_type": "code",
   "execution_count": null,
   "id": "526a3c64-e30a-497a-ba29-a83f50fdd1af",
   "metadata": {},
   "outputs": [],
   "source": []
  },
  {
   "cell_type": "code",
   "execution_count": null,
   "id": "3826fc00-e8d7-4b93-a731-6b292af2b5ec",
   "metadata": {},
   "outputs": [],
   "source": []
  },
  {
   "cell_type": "code",
   "execution_count": null,
   "id": "8458363f-3ba1-411b-b9ff-e708aa565b85",
   "metadata": {},
   "outputs": [],
   "source": []
  }
 ],
 "metadata": {
  "kernelspec": {
   "display_name": "Python 3 (ipykernel)",
   "language": "python",
   "name": "python3"
  },
  "language_info": {
   "codemirror_mode": {
    "name": "ipython",
    "version": 3
   },
   "file_extension": ".py",
   "mimetype": "text/x-python",
   "name": "python",
   "nbconvert_exporter": "python",
   "pygments_lexer": "ipython3",
   "version": "3.11.5"
  }
 },
 "nbformat": 4,
 "nbformat_minor": 5
}
