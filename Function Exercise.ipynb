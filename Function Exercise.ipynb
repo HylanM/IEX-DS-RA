{
 "cells": [
  {
   "cell_type": "code",
   "execution_count": 4,
   "id": "5c94ec9f-4140-4506-a16e-fcaf3ae1f862",
   "metadata": {
    "tags": []
   },
   "outputs": [
    {
     "name": "stdin",
     "output_type": "stream",
     "text": [
      "Enter your name:  Maggie\n",
      "Enter your height:  160\n",
      "Enter your hair color:  blonde\n"
     ]
    },
    {
     "name": "stdout",
     "output_type": "stream",
     "text": [
      "HelloMaggie,you are160cm!\n",
      "We hear your hair color is  blonde\n"
     ]
    }
   ],
   "source": [
    "def introduction(name, height=165, hair_color='Red'):\n",
    "    #greet user with \"name\" from 'input box' and 'height'\n",
    "    print('Hello' +name+ ',you are' + str(height)+'cm!')\n",
    "    print('We hear your hair color is ',hair_color)\n",
    "\n",
    "name = input('Enter your name: ')\n",
    "height = input('Enter your height: ')\n",
    "hair_color = input('Enter your hair color: ')\n",
    "introduction(name, height, hair_color)"
   ]
  },
  {
   "cell_type": "code",
   "execution_count": null,
   "id": "785cb0e4-a88c-482f-b397-293fb3d993a2",
   "metadata": {},
   "outputs": [],
   "source": []
  }
 ],
 "metadata": {
  "kernelspec": {
   "display_name": "Python 3 (ipykernel)",
   "language": "python",
   "name": "python3"
  },
  "language_info": {
   "codemirror_mode": {
    "name": "ipython",
    "version": 3
   },
   "file_extension": ".py",
   "mimetype": "text/x-python",
   "name": "python",
   "nbconvert_exporter": "python",
   "pygments_lexer": "ipython3",
   "version": "3.11.5"
  }
 },
 "nbformat": 4,
 "nbformat_minor": 5
}
